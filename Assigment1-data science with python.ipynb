{
 "cells": [
  {
   "cell_type": "markdown",
   "metadata": {},
   "source": [
    "# ASSIGNMENT 1 - PRACTICAL DATA SCIENCE WITH PYTHON\n",
    "NAME: THIMIRA DULSHAN GUNATHILAKA MASTIYAGE DON <br>\n",
    "ID: s3758709 \n"
   ]
  },
  {
   "cell_type": "markdown",
   "metadata": {},
   "source": [
    "### Data Preparation "
   ]
  },
  {
   "cell_type": "code",
   "execution_count": 1,
   "metadata": {},
   "outputs": [
    {
     "data": {
      "text/html": [
       "<div>\n",
       "<style scoped>\n",
       "    .dataframe tbody tr th:only-of-type {\n",
       "        vertical-align: middle;\n",
       "    }\n",
       "\n",
       "    .dataframe tbody tr th {\n",
       "        vertical-align: top;\n",
       "    }\n",
       "\n",
       "    .dataframe thead th {\n",
       "        text-align: right;\n",
       "    }\n",
       "</style>\n",
       "<table border=\"1\" class=\"dataframe\">\n",
       "  <thead>\n",
       "    <tr style=\"text-align: right;\">\n",
       "      <th></th>\n",
       "      <th>RespondentID</th>\n",
       "      <th>Have you seen any of the 6 films in the Star Wars franchise?</th>\n",
       "      <th>Do you consider yourself to be a fan of the Star Wars film franchise?</th>\n",
       "      <th>Which of the following Star Wars films have you seen? Please select all that apply.</th>\n",
       "      <th>Unnamed: 4</th>\n",
       "      <th>Unnamed: 5</th>\n",
       "      <th>Unnamed: 6</th>\n",
       "      <th>Unnamed: 7</th>\n",
       "      <th>Unnamed: 8</th>\n",
       "      <th>Please rank the Star Wars films in order of preference with 1 being your favorite film in the franchise and 6 being your least favorite film.</th>\n",
       "      <th>...</th>\n",
       "      <th>Unnamed: 28</th>\n",
       "      <th>Which character shot first?</th>\n",
       "      <th>Are you familiar with the Expanded Universe?</th>\n",
       "      <th>Do you consider yourself to be a fan of the Expanded Universe?æ</th>\n",
       "      <th>Do you consider yourself to be a fan of the Star Trek franchise?</th>\n",
       "      <th>Gender</th>\n",
       "      <th>Age</th>\n",
       "      <th>Household Income</th>\n",
       "      <th>Education</th>\n",
       "      <th>Location (Census Region)</th>\n",
       "    </tr>\n",
       "  </thead>\n",
       "  <tbody>\n",
       "    <tr>\n",
       "      <td>0</td>\n",
       "      <td>NaN</td>\n",
       "      <td>Response</td>\n",
       "      <td>Response</td>\n",
       "      <td>Star Wars: Episode I  The Phantom Menace</td>\n",
       "      <td>Star Wars: Episode II  Attack of the Clones</td>\n",
       "      <td>Star Wars: Episode III  Revenge of the Sith</td>\n",
       "      <td>Star Wars: Episode IV  A New Hope</td>\n",
       "      <td>Star Wars: Episode V The Empire Strikes Back</td>\n",
       "      <td>Star Wars: Episode VI Return of the Jedi</td>\n",
       "      <td>Star Wars: Episode I  The Phantom Menace</td>\n",
       "      <td>...</td>\n",
       "      <td>Yoda</td>\n",
       "      <td>Response</td>\n",
       "      <td>Response</td>\n",
       "      <td>Response</td>\n",
       "      <td>Response</td>\n",
       "      <td>Response</td>\n",
       "      <td>Response</td>\n",
       "      <td>Response</td>\n",
       "      <td>Response</td>\n",
       "      <td>Response</td>\n",
       "    </tr>\n",
       "    <tr>\n",
       "      <td>1</td>\n",
       "      <td>3.292880e+09</td>\n",
       "      <td>Yes</td>\n",
       "      <td>Yes</td>\n",
       "      <td>Star Wars: Episode I  The Phantom Menace</td>\n",
       "      <td>Star Wars: Episode II  Attack of the Clones</td>\n",
       "      <td>Star Wars: Episode III  Revenge of the Sith</td>\n",
       "      <td>Star Wars: Episode IV  A New Hope</td>\n",
       "      <td>Star Wars: Episode V The Empire Strikes Back</td>\n",
       "      <td>Star Wars: Episode VI Return of the Jedi</td>\n",
       "      <td>3</td>\n",
       "      <td>...</td>\n",
       "      <td>Very favorably</td>\n",
       "      <td>I don't understand this question</td>\n",
       "      <td>Yes</td>\n",
       "      <td>No</td>\n",
       "      <td>No</td>\n",
       "      <td>Male</td>\n",
       "      <td>18-29</td>\n",
       "      <td>NaN</td>\n",
       "      <td>High school degree</td>\n",
       "      <td>South Atlantic</td>\n",
       "    </tr>\n",
       "    <tr>\n",
       "      <td>2</td>\n",
       "      <td>3.292880e+09</td>\n",
       "      <td>No</td>\n",
       "      <td>NaN</td>\n",
       "      <td>NaN</td>\n",
       "      <td>NaN</td>\n",
       "      <td>NaN</td>\n",
       "      <td>NaN</td>\n",
       "      <td>NaN</td>\n",
       "      <td>NaN</td>\n",
       "      <td>NaN</td>\n",
       "      <td>...</td>\n",
       "      <td>NaN</td>\n",
       "      <td>NaN</td>\n",
       "      <td>NaN</td>\n",
       "      <td>NaN</td>\n",
       "      <td>Yes</td>\n",
       "      <td>Male</td>\n",
       "      <td>18-29</td>\n",
       "      <td>$0 - $24,999</td>\n",
       "      <td>Bachelor degree</td>\n",
       "      <td>West South Central</td>\n",
       "    </tr>\n",
       "    <tr>\n",
       "      <td>3</td>\n",
       "      <td>3.292765e+09</td>\n",
       "      <td>Yes</td>\n",
       "      <td>No</td>\n",
       "      <td>Star Wars: Episode I  The Phantom Menace</td>\n",
       "      <td>Star Wars: Episode II  Attack of the Clones</td>\n",
       "      <td>Star Wars: Episode III  Revenge of the Sith</td>\n",
       "      <td>NaN</td>\n",
       "      <td>NaN</td>\n",
       "      <td>NaN</td>\n",
       "      <td>1</td>\n",
       "      <td>...</td>\n",
       "      <td>Unfamiliar (N/A)</td>\n",
       "      <td>I don't understand this question</td>\n",
       "      <td>No</td>\n",
       "      <td>NaN</td>\n",
       "      <td>No</td>\n",
       "      <td>Male</td>\n",
       "      <td>18-29</td>\n",
       "      <td>$0 - $24,999</td>\n",
       "      <td>High school degree</td>\n",
       "      <td>West North Central</td>\n",
       "    </tr>\n",
       "    <tr>\n",
       "      <td>4</td>\n",
       "      <td>3.292763e+09</td>\n",
       "      <td>Yes</td>\n",
       "      <td>Yes</td>\n",
       "      <td>Star Wars: Episode I  The Phantom Menace</td>\n",
       "      <td>Star Wars: Episode II  Attack of the Clones</td>\n",
       "      <td>Star Wars: Episode III  Revenge of the Sith</td>\n",
       "      <td>Star Wars: Episode IV  A New Hope</td>\n",
       "      <td>Star Wars: Episode V The Empire Strikes Back</td>\n",
       "      <td>Star Wars: Episode VI Return of the Jedi</td>\n",
       "      <td>5</td>\n",
       "      <td>...</td>\n",
       "      <td>Very favorably</td>\n",
       "      <td>I don't understand this question</td>\n",
       "      <td>No</td>\n",
       "      <td>NaN</td>\n",
       "      <td>Yes</td>\n",
       "      <td>Male</td>\n",
       "      <td>18-29</td>\n",
       "      <td>$100,000 - $149,999</td>\n",
       "      <td>Some college or Associate degree</td>\n",
       "      <td>West North Central</td>\n",
       "    </tr>\n",
       "  </tbody>\n",
       "</table>\n",
       "<p>5 rows × 38 columns</p>\n",
       "</div>"
      ],
      "text/plain": [
       "   RespondentID Have you seen any of the 6 films in the Star Wars franchise?  \\\n",
       "0           NaN                                           Response             \n",
       "1  3.292880e+09                                                Yes             \n",
       "2  3.292880e+09                                                 No             \n",
       "3  3.292765e+09                                                Yes             \n",
       "4  3.292763e+09                                                Yes             \n",
       "\n",
       "  Do you consider yourself to be a fan of the Star Wars film franchise?  \\\n",
       "0                                           Response                      \n",
       "1                                                Yes                      \n",
       "2                                                NaN                      \n",
       "3                                                 No                      \n",
       "4                                                Yes                      \n",
       "\n",
       "  Which of the following Star Wars films have you seen? Please select all that apply.  \\\n",
       "0           Star Wars: Episode I  The Phantom Menace                                    \n",
       "1           Star Wars: Episode I  The Phantom Menace                                    \n",
       "2                                                NaN                                    \n",
       "3           Star Wars: Episode I  The Phantom Menace                                    \n",
       "4           Star Wars: Episode I  The Phantom Menace                                    \n",
       "\n",
       "                                    Unnamed: 4  \\\n",
       "0  Star Wars: Episode II  Attack of the Clones   \n",
       "1  Star Wars: Episode II  Attack of the Clones   \n",
       "2                                          NaN   \n",
       "3  Star Wars: Episode II  Attack of the Clones   \n",
       "4  Star Wars: Episode II  Attack of the Clones   \n",
       "\n",
       "                                    Unnamed: 5  \\\n",
       "0  Star Wars: Episode III  Revenge of the Sith   \n",
       "1  Star Wars: Episode III  Revenge of the Sith   \n",
       "2                                          NaN   \n",
       "3  Star Wars: Episode III  Revenge of the Sith   \n",
       "4  Star Wars: Episode III  Revenge of the Sith   \n",
       "\n",
       "                          Unnamed: 6  \\\n",
       "0  Star Wars: Episode IV  A New Hope   \n",
       "1  Star Wars: Episode IV  A New Hope   \n",
       "2                                NaN   \n",
       "3                                NaN   \n",
       "4  Star Wars: Episode IV  A New Hope   \n",
       "\n",
       "                                     Unnamed: 7  \\\n",
       "0  Star Wars: Episode V The Empire Strikes Back   \n",
       "1  Star Wars: Episode V The Empire Strikes Back   \n",
       "2                                           NaN   \n",
       "3                                           NaN   \n",
       "4  Star Wars: Episode V The Empire Strikes Back   \n",
       "\n",
       "                                 Unnamed: 8  \\\n",
       "0  Star Wars: Episode VI Return of the Jedi   \n",
       "1  Star Wars: Episode VI Return of the Jedi   \n",
       "2                                       NaN   \n",
       "3                                       NaN   \n",
       "4  Star Wars: Episode VI Return of the Jedi   \n",
       "\n",
       "  Please rank the Star Wars films in order of preference with 1 being your favorite film in the franchise and 6 being your least favorite film.  \\\n",
       "0           Star Wars: Episode I  The Phantom Menace                                                                                              \n",
       "1                                                  3                                                                                              \n",
       "2                                                NaN                                                                                              \n",
       "3                                                  1                                                                                              \n",
       "4                                                  5                                                                                              \n",
       "\n",
       "   ...       Unnamed: 28       Which character shot first?  \\\n",
       "0  ...              Yoda                          Response   \n",
       "1  ...    Very favorably  I don't understand this question   \n",
       "2  ...               NaN                               NaN   \n",
       "3  ...  Unfamiliar (N/A)  I don't understand this question   \n",
       "4  ...    Very favorably  I don't understand this question   \n",
       "\n",
       "  Are you familiar with the Expanded Universe?  \\\n",
       "0                                     Response   \n",
       "1                                          Yes   \n",
       "2                                          NaN   \n",
       "3                                           No   \n",
       "4                                           No   \n",
       "\n",
       "  Do you consider yourself to be a fan of the Expanded Universe?æ  \\\n",
       "0                                           Response                 \n",
       "1                                                 No                 \n",
       "2                                                NaN                 \n",
       "3                                                NaN                 \n",
       "4                                                NaN                 \n",
       "\n",
       "  Do you consider yourself to be a fan of the Star Trek franchise?    Gender  \\\n",
       "0                                           Response                Response   \n",
       "1                                                 No                    Male   \n",
       "2                                                Yes                    Male   \n",
       "3                                                 No                    Male   \n",
       "4                                                Yes                    Male   \n",
       "\n",
       "        Age     Household Income                         Education  \\\n",
       "0  Response             Response                          Response   \n",
       "1     18-29                  NaN                High school degree   \n",
       "2     18-29         $0 - $24,999                   Bachelor degree   \n",
       "3     18-29         $0 - $24,999                High school degree   \n",
       "4     18-29  $100,000 - $149,999  Some college or Associate degree   \n",
       "\n",
       "  Location (Census Region)  \n",
       "0                 Response  \n",
       "1           South Atlantic  \n",
       "2       West South Central  \n",
       "3       West North Central  \n",
       "4       West North Central  \n",
       "\n",
       "[5 rows x 38 columns]"
      ]
     },
     "execution_count": 1,
     "metadata": {},
     "output_type": "execute_result"
    }
   ],
   "source": [
    "import pandas as pd\n",
    "import matplotlib.pyplot as plt\n",
    "import numpy as np\n",
    "fileName='StarWars.csv'\n",
    "StarWars=pd.read_csv(fileName,sep=',',decimal='.',header=0,encoding= 'unicode_escape')\n",
    "StarWars.head()"
   ]
  },
  {
   "cell_type": "code",
   "execution_count": 2,
   "metadata": {},
   "outputs": [
    {
     "data": {
      "text/plain": [
       "(1187, 38)"
      ]
     },
     "execution_count": 2,
     "metadata": {},
     "output_type": "execute_result"
    }
   ],
   "source": [
    "StarWars.shape"
   ]
  },
  {
   "cell_type": "code",
   "execution_count": 3,
   "metadata": {},
   "outputs": [
    {
     "data": {
      "text/html": [
       "<div>\n",
       "<style scoped>\n",
       "    .dataframe tbody tr th:only-of-type {\n",
       "        vertical-align: middle;\n",
       "    }\n",
       "\n",
       "    .dataframe tbody tr th {\n",
       "        vertical-align: top;\n",
       "    }\n",
       "\n",
       "    .dataframe thead th {\n",
       "        text-align: right;\n",
       "    }\n",
       "</style>\n",
       "<table border=\"1\" class=\"dataframe\">\n",
       "  <thead>\n",
       "    <tr style=\"text-align: right;\">\n",
       "      <th></th>\n",
       "      <th>RespondentID</th>\n",
       "      <th>Have you seen any of the 6 films in the Star Wars franchise?</th>\n",
       "      <th>Do you consider yourself to be a fan of the Star Wars film franchise?</th>\n",
       "      <th>Which of the following Star Wars films have you seen? Please select all that apply.</th>\n",
       "      <th>Unnamed: 4</th>\n",
       "      <th>Unnamed: 5</th>\n",
       "      <th>Unnamed: 6</th>\n",
       "      <th>Unnamed: 7</th>\n",
       "      <th>Unnamed: 8</th>\n",
       "      <th>Please rank the Star Wars films in order of preference with 1 being your favorite film in the franchise and 6 being your least favorite film.</th>\n",
       "      <th>...</th>\n",
       "      <th>Unnamed: 28</th>\n",
       "      <th>Which character shot first?</th>\n",
       "      <th>Are you familiar with the Expanded Universe?</th>\n",
       "      <th>Do you consider yourself to be a fan of the Expanded Universe?æ</th>\n",
       "      <th>Do you consider yourself to be a fan of the Star Trek franchise?</th>\n",
       "      <th>Gender</th>\n",
       "      <th>Age</th>\n",
       "      <th>Household Income</th>\n",
       "      <th>Education</th>\n",
       "      <th>Location (Census Region)</th>\n",
       "    </tr>\n",
       "  </thead>\n",
       "  <tbody>\n",
       "    <tr>\n",
       "      <td>1</td>\n",
       "      <td>3.292880e+09</td>\n",
       "      <td>Yes</td>\n",
       "      <td>Yes</td>\n",
       "      <td>Star Wars: Episode I  The Phantom Menace</td>\n",
       "      <td>Star Wars: Episode II  Attack of the Clones</td>\n",
       "      <td>Star Wars: Episode III  Revenge of the Sith</td>\n",
       "      <td>Star Wars: Episode IV  A New Hope</td>\n",
       "      <td>Star Wars: Episode V The Empire Strikes Back</td>\n",
       "      <td>Star Wars: Episode VI Return of the Jedi</td>\n",
       "      <td>3</td>\n",
       "      <td>...</td>\n",
       "      <td>Very favorably</td>\n",
       "      <td>I don't understand this question</td>\n",
       "      <td>Yes</td>\n",
       "      <td>No</td>\n",
       "      <td>No</td>\n",
       "      <td>Male</td>\n",
       "      <td>18-29</td>\n",
       "      <td>NaN</td>\n",
       "      <td>High school degree</td>\n",
       "      <td>South Atlantic</td>\n",
       "    </tr>\n",
       "    <tr>\n",
       "      <td>2</td>\n",
       "      <td>3.292880e+09</td>\n",
       "      <td>No</td>\n",
       "      <td>NaN</td>\n",
       "      <td>NaN</td>\n",
       "      <td>NaN</td>\n",
       "      <td>NaN</td>\n",
       "      <td>NaN</td>\n",
       "      <td>NaN</td>\n",
       "      <td>NaN</td>\n",
       "      <td>NaN</td>\n",
       "      <td>...</td>\n",
       "      <td>NaN</td>\n",
       "      <td>NaN</td>\n",
       "      <td>NaN</td>\n",
       "      <td>NaN</td>\n",
       "      <td>Yes</td>\n",
       "      <td>Male</td>\n",
       "      <td>18-29</td>\n",
       "      <td>$0 - $24,999</td>\n",
       "      <td>Bachelor degree</td>\n",
       "      <td>West South Central</td>\n",
       "    </tr>\n",
       "    <tr>\n",
       "      <td>3</td>\n",
       "      <td>3.292765e+09</td>\n",
       "      <td>Yes</td>\n",
       "      <td>No</td>\n",
       "      <td>Star Wars: Episode I  The Phantom Menace</td>\n",
       "      <td>Star Wars: Episode II  Attack of the Clones</td>\n",
       "      <td>Star Wars: Episode III  Revenge of the Sith</td>\n",
       "      <td>NaN</td>\n",
       "      <td>NaN</td>\n",
       "      <td>NaN</td>\n",
       "      <td>1</td>\n",
       "      <td>...</td>\n",
       "      <td>Unfamiliar (N/A)</td>\n",
       "      <td>I don't understand this question</td>\n",
       "      <td>No</td>\n",
       "      <td>NaN</td>\n",
       "      <td>No</td>\n",
       "      <td>Male</td>\n",
       "      <td>18-29</td>\n",
       "      <td>$0 - $24,999</td>\n",
       "      <td>High school degree</td>\n",
       "      <td>West North Central</td>\n",
       "    </tr>\n",
       "    <tr>\n",
       "      <td>4</td>\n",
       "      <td>3.292763e+09</td>\n",
       "      <td>Yes</td>\n",
       "      <td>Yes</td>\n",
       "      <td>Star Wars: Episode I  The Phantom Menace</td>\n",
       "      <td>Star Wars: Episode II  Attack of the Clones</td>\n",
       "      <td>Star Wars: Episode III  Revenge of the Sith</td>\n",
       "      <td>Star Wars: Episode IV  A New Hope</td>\n",
       "      <td>Star Wars: Episode V The Empire Strikes Back</td>\n",
       "      <td>Star Wars: Episode VI Return of the Jedi</td>\n",
       "      <td>5</td>\n",
       "      <td>...</td>\n",
       "      <td>Very favorably</td>\n",
       "      <td>I don't understand this question</td>\n",
       "      <td>No</td>\n",
       "      <td>NaN</td>\n",
       "      <td>Yes</td>\n",
       "      <td>Male</td>\n",
       "      <td>18-29</td>\n",
       "      <td>$100,000 - $149,999</td>\n",
       "      <td>Some college or Associate degree</td>\n",
       "      <td>West North Central</td>\n",
       "    </tr>\n",
       "    <tr>\n",
       "      <td>5</td>\n",
       "      <td>3.292731e+09</td>\n",
       "      <td>Yes</td>\n",
       "      <td>Yes</td>\n",
       "      <td>Star Wars: Episode I  The Phantom Menace</td>\n",
       "      <td>Star Wars: Episode II  Attack of the Clones</td>\n",
       "      <td>Star Wars: Episode III  Revenge of the Sith</td>\n",
       "      <td>Star Wars: Episode IV  A New Hope</td>\n",
       "      <td>Star Wars: Episode V The Empire Strikes Back</td>\n",
       "      <td>Star Wars: Episode VI Return of the Jedi</td>\n",
       "      <td>5</td>\n",
       "      <td>...</td>\n",
       "      <td>Somewhat favorably</td>\n",
       "      <td>Greedo</td>\n",
       "      <td>Yes</td>\n",
       "      <td>No</td>\n",
       "      <td>No</td>\n",
       "      <td>Male</td>\n",
       "      <td>18-29</td>\n",
       "      <td>$100,000 - $149,999</td>\n",
       "      <td>Some college or Associate degree</td>\n",
       "      <td>West North Central</td>\n",
       "    </tr>\n",
       "  </tbody>\n",
       "</table>\n",
       "<p>5 rows × 38 columns</p>\n",
       "</div>"
      ],
      "text/plain": [
       "   RespondentID Have you seen any of the 6 films in the Star Wars franchise?  \\\n",
       "1  3.292880e+09                                                Yes             \n",
       "2  3.292880e+09                                                 No             \n",
       "3  3.292765e+09                                                Yes             \n",
       "4  3.292763e+09                                                Yes             \n",
       "5  3.292731e+09                                                Yes             \n",
       "\n",
       "  Do you consider yourself to be a fan of the Star Wars film franchise?  \\\n",
       "1                                                Yes                      \n",
       "2                                                NaN                      \n",
       "3                                                 No                      \n",
       "4                                                Yes                      \n",
       "5                                                Yes                      \n",
       "\n",
       "  Which of the following Star Wars films have you seen? Please select all that apply.  \\\n",
       "1           Star Wars: Episode I  The Phantom Menace                                    \n",
       "2                                                NaN                                    \n",
       "3           Star Wars: Episode I  The Phantom Menace                                    \n",
       "4           Star Wars: Episode I  The Phantom Menace                                    \n",
       "5           Star Wars: Episode I  The Phantom Menace                                    \n",
       "\n",
       "                                    Unnamed: 4  \\\n",
       "1  Star Wars: Episode II  Attack of the Clones   \n",
       "2                                          NaN   \n",
       "3  Star Wars: Episode II  Attack of the Clones   \n",
       "4  Star Wars: Episode II  Attack of the Clones   \n",
       "5  Star Wars: Episode II  Attack of the Clones   \n",
       "\n",
       "                                    Unnamed: 5  \\\n",
       "1  Star Wars: Episode III  Revenge of the Sith   \n",
       "2                                          NaN   \n",
       "3  Star Wars: Episode III  Revenge of the Sith   \n",
       "4  Star Wars: Episode III  Revenge of the Sith   \n",
       "5  Star Wars: Episode III  Revenge of the Sith   \n",
       "\n",
       "                          Unnamed: 6  \\\n",
       "1  Star Wars: Episode IV  A New Hope   \n",
       "2                                NaN   \n",
       "3                                NaN   \n",
       "4  Star Wars: Episode IV  A New Hope   \n",
       "5  Star Wars: Episode IV  A New Hope   \n",
       "\n",
       "                                     Unnamed: 7  \\\n",
       "1  Star Wars: Episode V The Empire Strikes Back   \n",
       "2                                           NaN   \n",
       "3                                           NaN   \n",
       "4  Star Wars: Episode V The Empire Strikes Back   \n",
       "5  Star Wars: Episode V The Empire Strikes Back   \n",
       "\n",
       "                                 Unnamed: 8  \\\n",
       "1  Star Wars: Episode VI Return of the Jedi   \n",
       "2                                       NaN   \n",
       "3                                       NaN   \n",
       "4  Star Wars: Episode VI Return of the Jedi   \n",
       "5  Star Wars: Episode VI Return of the Jedi   \n",
       "\n",
       "  Please rank the Star Wars films in order of preference with 1 being your favorite film in the franchise and 6 being your least favorite film.  \\\n",
       "1                                                  3                                                                                              \n",
       "2                                                NaN                                                                                              \n",
       "3                                                  1                                                                                              \n",
       "4                                                  5                                                                                              \n",
       "5                                                  5                                                                                              \n",
       "\n",
       "   ...         Unnamed: 28       Which character shot first?  \\\n",
       "1  ...      Very favorably  I don't understand this question   \n",
       "2  ...                 NaN                               NaN   \n",
       "3  ...    Unfamiliar (N/A)  I don't understand this question   \n",
       "4  ...      Very favorably  I don't understand this question   \n",
       "5  ...  Somewhat favorably                            Greedo   \n",
       "\n",
       "  Are you familiar with the Expanded Universe?  \\\n",
       "1                                          Yes   \n",
       "2                                          NaN   \n",
       "3                                           No   \n",
       "4                                           No   \n",
       "5                                          Yes   \n",
       "\n",
       "  Do you consider yourself to be a fan of the Expanded Universe?æ  \\\n",
       "1                                                 No                 \n",
       "2                                                NaN                 \n",
       "3                                                NaN                 \n",
       "4                                                NaN                 \n",
       "5                                                 No                 \n",
       "\n",
       "  Do you consider yourself to be a fan of the Star Trek franchise? Gender  \\\n",
       "1                                                 No                 Male   \n",
       "2                                                Yes                 Male   \n",
       "3                                                 No                 Male   \n",
       "4                                                Yes                 Male   \n",
       "5                                                 No                 Male   \n",
       "\n",
       "     Age     Household Income                         Education  \\\n",
       "1  18-29                  NaN                High school degree   \n",
       "2  18-29         $0 - $24,999                   Bachelor degree   \n",
       "3  18-29         $0 - $24,999                High school degree   \n",
       "4  18-29  $100,000 - $149,999  Some college or Associate degree   \n",
       "5  18-29  $100,000 - $149,999  Some college or Associate degree   \n",
       "\n",
       "  Location (Census Region)  \n",
       "1           South Atlantic  \n",
       "2       West South Central  \n",
       "3       West North Central  \n",
       "4       West North Central  \n",
       "5       West North Central  \n",
       "\n",
       "[5 rows x 38 columns]"
      ]
     },
     "execution_count": 3,
     "metadata": {},
     "output_type": "execute_result"
    }
   ],
   "source": [
    "#drop row index 1\n",
    "StarWars_d=StarWars.drop([0])\n",
    "StarWars_d.head()"
   ]
  },
  {
   "cell_type": "code",
   "execution_count": 4,
   "metadata": {},
   "outputs": [
    {
     "data": {
      "text/plain": [
       "(1186, 38)"
      ]
     },
     "execution_count": 4,
     "metadata": {},
     "output_type": "execute_result"
    }
   ],
   "source": [
    "StarWars_d.shape"
   ]
  },
  {
   "cell_type": "code",
   "execution_count": 5,
   "metadata": {},
   "outputs": [
    {
     "data": {
      "text/plain": [
       "Index(['RespondentID',\n",
       "       'Have you seen any of the 6 films in the Star Wars franchise?',\n",
       "       'Do you consider yourself to be a fan of the Star Wars film franchise?',\n",
       "       'Which of the following Star Wars films have you seen? Please select all that apply.',\n",
       "       'Unnamed: 4', 'Unnamed: 5', 'Unnamed: 6', 'Unnamed: 7', 'Unnamed: 8',\n",
       "       'Please rank the Star Wars films in order of preference with 1 being your favorite film in the franchise and 6 being your least favorite film.',\n",
       "       'Unnamed: 10', 'Unnamed: 11', 'Unnamed: 12', 'Unnamed: 13',\n",
       "       'Unnamed: 14',\n",
       "       'Please state whether you view the following characters favorably, unfavorably, or are unfamiliar with him/her.',\n",
       "       'Unnamed: 16', 'Unnamed: 17', 'Unnamed: 18', 'Unnamed: 19',\n",
       "       'Unnamed: 20', 'Unnamed: 21', 'Unnamed: 22', 'Unnamed: 23',\n",
       "       'Unnamed: 24', 'Unnamed: 25', 'Unnamed: 26', 'Unnamed: 27',\n",
       "       'Unnamed: 28', 'Which character shot first?',\n",
       "       'Are you familiar with the Expanded Universe?',\n",
       "       'Do you consider yourself to be a fan of the Expanded Universe?æ',\n",
       "       'Do you consider yourself to be a fan of the Star Trek franchise?',\n",
       "       'Gender', 'Age', 'Household Income', 'Education',\n",
       "       'Location (Census Region)'],\n",
       "      dtype='object')"
      ]
     },
     "execution_count": 5,
     "metadata": {},
     "output_type": "execute_result"
    }
   ],
   "source": [
    "StarWars_d.columns"
   ]
  },
  {
   "cell_type": "code",
   "execution_count": 6,
   "metadata": {},
   "outputs": [
    {
     "data": {
      "text/html": [
       "<div>\n",
       "<style scoped>\n",
       "    .dataframe tbody tr th:only-of-type {\n",
       "        vertical-align: middle;\n",
       "    }\n",
       "\n",
       "    .dataframe tbody tr th {\n",
       "        vertical-align: top;\n",
       "    }\n",
       "\n",
       "    .dataframe thead th {\n",
       "        text-align: right;\n",
       "    }\n",
       "</style>\n",
       "<table border=\"1\" class=\"dataframe\">\n",
       "  <thead>\n",
       "    <tr style=\"text-align: right;\">\n",
       "      <th></th>\n",
       "      <th>RespondentID</th>\n",
       "      <th>Have you seen any of the 6 films in the Star Wars franchise?</th>\n",
       "      <th>Do you consider yourself to be a fan of the Star Wars film franchise?</th>\n",
       "      <th>Seen Episode I The Phantom Menace</th>\n",
       "      <th>Seen Episode II  Attack of the Clones</th>\n",
       "      <th>Seen Episode III  Revenge of the Sith</th>\n",
       "      <th>Seen Episode IV  A New Hope</th>\n",
       "      <th>Seen Episode V The Empire Strikes Back</th>\n",
       "      <th>Seen Episode VI Return of the Jedi</th>\n",
       "      <th>Rank Episode I</th>\n",
       "      <th>...</th>\n",
       "      <th>Yoda</th>\n",
       "      <th>Which character shot first?</th>\n",
       "      <th>Are you familiar with the Expanded Universe?</th>\n",
       "      <th>Do you consider yourself to be a fan of the Expanded Universe?</th>\n",
       "      <th>Do you consider yourself to be a fan of the Star Trek franchise?</th>\n",
       "      <th>Gender</th>\n",
       "      <th>Age</th>\n",
       "      <th>Household Income</th>\n",
       "      <th>Education</th>\n",
       "      <th>Location (Census Region)</th>\n",
       "    </tr>\n",
       "  </thead>\n",
       "  <tbody>\n",
       "    <tr>\n",
       "      <td>1</td>\n",
       "      <td>3.292880e+09</td>\n",
       "      <td>Yes</td>\n",
       "      <td>Yes</td>\n",
       "      <td>Star Wars: Episode I  The Phantom Menace</td>\n",
       "      <td>Star Wars: Episode II  Attack of the Clones</td>\n",
       "      <td>Star Wars: Episode III  Revenge of the Sith</td>\n",
       "      <td>Star Wars: Episode IV  A New Hope</td>\n",
       "      <td>Star Wars: Episode V The Empire Strikes Back</td>\n",
       "      <td>Star Wars: Episode VI Return of the Jedi</td>\n",
       "      <td>3</td>\n",
       "      <td>...</td>\n",
       "      <td>Very favorably</td>\n",
       "      <td>I don't understand this question</td>\n",
       "      <td>Yes</td>\n",
       "      <td>No</td>\n",
       "      <td>No</td>\n",
       "      <td>Male</td>\n",
       "      <td>18-29</td>\n",
       "      <td>NaN</td>\n",
       "      <td>High school degree</td>\n",
       "      <td>South Atlantic</td>\n",
       "    </tr>\n",
       "    <tr>\n",
       "      <td>2</td>\n",
       "      <td>3.292880e+09</td>\n",
       "      <td>No</td>\n",
       "      <td>NaN</td>\n",
       "      <td>NaN</td>\n",
       "      <td>NaN</td>\n",
       "      <td>NaN</td>\n",
       "      <td>NaN</td>\n",
       "      <td>NaN</td>\n",
       "      <td>NaN</td>\n",
       "      <td>NaN</td>\n",
       "      <td>...</td>\n",
       "      <td>NaN</td>\n",
       "      <td>NaN</td>\n",
       "      <td>NaN</td>\n",
       "      <td>NaN</td>\n",
       "      <td>Yes</td>\n",
       "      <td>Male</td>\n",
       "      <td>18-29</td>\n",
       "      <td>$0 - $24,999</td>\n",
       "      <td>Bachelor degree</td>\n",
       "      <td>West South Central</td>\n",
       "    </tr>\n",
       "    <tr>\n",
       "      <td>3</td>\n",
       "      <td>3.292765e+09</td>\n",
       "      <td>Yes</td>\n",
       "      <td>No</td>\n",
       "      <td>Star Wars: Episode I  The Phantom Menace</td>\n",
       "      <td>Star Wars: Episode II  Attack of the Clones</td>\n",
       "      <td>Star Wars: Episode III  Revenge of the Sith</td>\n",
       "      <td>NaN</td>\n",
       "      <td>NaN</td>\n",
       "      <td>NaN</td>\n",
       "      <td>1</td>\n",
       "      <td>...</td>\n",
       "      <td>Unfamiliar (N/A)</td>\n",
       "      <td>I don't understand this question</td>\n",
       "      <td>No</td>\n",
       "      <td>NaN</td>\n",
       "      <td>No</td>\n",
       "      <td>Male</td>\n",
       "      <td>18-29</td>\n",
       "      <td>$0 - $24,999</td>\n",
       "      <td>High school degree</td>\n",
       "      <td>West North Central</td>\n",
       "    </tr>\n",
       "    <tr>\n",
       "      <td>4</td>\n",
       "      <td>3.292763e+09</td>\n",
       "      <td>Yes</td>\n",
       "      <td>Yes</td>\n",
       "      <td>Star Wars: Episode I  The Phantom Menace</td>\n",
       "      <td>Star Wars: Episode II  Attack of the Clones</td>\n",
       "      <td>Star Wars: Episode III  Revenge of the Sith</td>\n",
       "      <td>Star Wars: Episode IV  A New Hope</td>\n",
       "      <td>Star Wars: Episode V The Empire Strikes Back</td>\n",
       "      <td>Star Wars: Episode VI Return of the Jedi</td>\n",
       "      <td>5</td>\n",
       "      <td>...</td>\n",
       "      <td>Very favorably</td>\n",
       "      <td>I don't understand this question</td>\n",
       "      <td>No</td>\n",
       "      <td>NaN</td>\n",
       "      <td>Yes</td>\n",
       "      <td>Male</td>\n",
       "      <td>18-29</td>\n",
       "      <td>$100,000 - $149,999</td>\n",
       "      <td>Some college or Associate degree</td>\n",
       "      <td>West North Central</td>\n",
       "    </tr>\n",
       "    <tr>\n",
       "      <td>5</td>\n",
       "      <td>3.292731e+09</td>\n",
       "      <td>Yes</td>\n",
       "      <td>Yes</td>\n",
       "      <td>Star Wars: Episode I  The Phantom Menace</td>\n",
       "      <td>Star Wars: Episode II  Attack of the Clones</td>\n",
       "      <td>Star Wars: Episode III  Revenge of the Sith</td>\n",
       "      <td>Star Wars: Episode IV  A New Hope</td>\n",
       "      <td>Star Wars: Episode V The Empire Strikes Back</td>\n",
       "      <td>Star Wars: Episode VI Return of the Jedi</td>\n",
       "      <td>5</td>\n",
       "      <td>...</td>\n",
       "      <td>Somewhat favorably</td>\n",
       "      <td>Greedo</td>\n",
       "      <td>Yes</td>\n",
       "      <td>No</td>\n",
       "      <td>No</td>\n",
       "      <td>Male</td>\n",
       "      <td>18-29</td>\n",
       "      <td>$100,000 - $149,999</td>\n",
       "      <td>Some college or Associate degree</td>\n",
       "      <td>West North Central</td>\n",
       "    </tr>\n",
       "  </tbody>\n",
       "</table>\n",
       "<p>5 rows × 38 columns</p>\n",
       "</div>"
      ],
      "text/plain": [
       "   RespondentID Have you seen any of the 6 films in the Star Wars franchise?  \\\n",
       "1  3.292880e+09                                                Yes             \n",
       "2  3.292880e+09                                                 No             \n",
       "3  3.292765e+09                                                Yes             \n",
       "4  3.292763e+09                                                Yes             \n",
       "5  3.292731e+09                                                Yes             \n",
       "\n",
       "  Do you consider yourself to be a fan of the Star Wars film franchise?  \\\n",
       "1                                                Yes                      \n",
       "2                                                NaN                      \n",
       "3                                                 No                      \n",
       "4                                                Yes                      \n",
       "5                                                Yes                      \n",
       "\n",
       "          Seen Episode I The Phantom Menace  \\\n",
       "1  Star Wars: Episode I  The Phantom Menace   \n",
       "2                                       NaN   \n",
       "3  Star Wars: Episode I  The Phantom Menace   \n",
       "4  Star Wars: Episode I  The Phantom Menace   \n",
       "5  Star Wars: Episode I  The Phantom Menace   \n",
       "\n",
       "         Seen Episode II  Attack of the Clones  \\\n",
       "1  Star Wars: Episode II  Attack of the Clones   \n",
       "2                                          NaN   \n",
       "3  Star Wars: Episode II  Attack of the Clones   \n",
       "4  Star Wars: Episode II  Attack of the Clones   \n",
       "5  Star Wars: Episode II  Attack of the Clones   \n",
       "\n",
       "         Seen Episode III  Revenge of the Sith  \\\n",
       "1  Star Wars: Episode III  Revenge of the Sith   \n",
       "2                                          NaN   \n",
       "3  Star Wars: Episode III  Revenge of the Sith   \n",
       "4  Star Wars: Episode III  Revenge of the Sith   \n",
       "5  Star Wars: Episode III  Revenge of the Sith   \n",
       "\n",
       "         Seen Episode IV  A New Hope  \\\n",
       "1  Star Wars: Episode IV  A New Hope   \n",
       "2                                NaN   \n",
       "3                                NaN   \n",
       "4  Star Wars: Episode IV  A New Hope   \n",
       "5  Star Wars: Episode IV  A New Hope   \n",
       "\n",
       "         Seen Episode V The Empire Strikes Back  \\\n",
       "1  Star Wars: Episode V The Empire Strikes Back   \n",
       "2                                           NaN   \n",
       "3                                           NaN   \n",
       "4  Star Wars: Episode V The Empire Strikes Back   \n",
       "5  Star Wars: Episode V The Empire Strikes Back   \n",
       "\n",
       "         Seen Episode VI Return of the Jedi Rank Episode I  ...  \\\n",
       "1  Star Wars: Episode VI Return of the Jedi              3  ...   \n",
       "2                                       NaN            NaN  ...   \n",
       "3                                       NaN              1  ...   \n",
       "4  Star Wars: Episode VI Return of the Jedi              5  ...   \n",
       "5  Star Wars: Episode VI Return of the Jedi              5  ...   \n",
       "\n",
       "                 Yoda       Which character shot first?  \\\n",
       "1      Very favorably  I don't understand this question   \n",
       "2                 NaN                               NaN   \n",
       "3    Unfamiliar (N/A)  I don't understand this question   \n",
       "4      Very favorably  I don't understand this question   \n",
       "5  Somewhat favorably                            Greedo   \n",
       "\n",
       "  Are you familiar with the Expanded Universe?  \\\n",
       "1                                          Yes   \n",
       "2                                          NaN   \n",
       "3                                           No   \n",
       "4                                           No   \n",
       "5                                          Yes   \n",
       "\n",
       "  Do you consider yourself to be a fan of the Expanded Universe?  \\\n",
       "1                                                 No               \n",
       "2                                                NaN               \n",
       "3                                                NaN               \n",
       "4                                                NaN               \n",
       "5                                                 No               \n",
       "\n",
       "  Do you consider yourself to be a fan of the Star Trek franchise? Gender  \\\n",
       "1                                                 No                 Male   \n",
       "2                                                Yes                 Male   \n",
       "3                                                 No                 Male   \n",
       "4                                                Yes                 Male   \n",
       "5                                                 No                 Male   \n",
       "\n",
       "     Age     Household Income                         Education  \\\n",
       "1  18-29                  NaN                High school degree   \n",
       "2  18-29         $0 - $24,999                   Bachelor degree   \n",
       "3  18-29         $0 - $24,999                High school degree   \n",
       "4  18-29  $100,000 - $149,999  Some college or Associate degree   \n",
       "5  18-29  $100,000 - $149,999  Some college or Associate degree   \n",
       "\n",
       "  Location (Census Region)  \n",
       "1           South Atlantic  \n",
       "2       West South Central  \n",
       "3       West North Central  \n",
       "4       West North Central  \n",
       "5       West North Central  \n",
       "\n",
       "[5 rows x 38 columns]"
      ]
     },
     "execution_count": 6,
     "metadata": {},
     "output_type": "execute_result"
    }
   ],
   "source": [
    "#Rename column names\n",
    "StarWars_final = StarWars_d.rename(columns={'Which of the following Star Wars films have you seen? Please select all that apply.': 'Seen Episode I The Phantom Menace',\n",
    "                                         'Unnamed: 4':'Seen Episode II  Attack of the Clones',\n",
    "                                         'Unnamed: 5':'Seen Episode III  Revenge of the Sith',\n",
    "                                         'Unnamed: 6':'Seen Episode IV  A New Hope',\n",
    "                                         'Unnamed: 7':'Seen Episode V The Empire Strikes Back',\n",
    "                                         'Unnamed: 8':'Seen Episode VI Return of the Jedi',\n",
    "                                         'Please rank the Star Wars films in order of preference with 1 being your favorite film in the franchise and 6 being your least favorite film.':'Rank Episode I',\n",
    "                                         'Unnamed: 10':'Rank Episode II',\n",
    "                                         'Unnamed: 11':'Rank Episode III',\n",
    "                                         'Unnamed: 12':'Rank Episode IV',\n",
    "                                         'Unnamed: 13':'Rank Episode V',\n",
    "                                         'Unnamed: 14':'Rank Episode VI',\n",
    "                                         'Please state whether you view the following characters favorably, unfavorably, or are unfamiliar with him/her.':'Han Solo',\n",
    "                                           'Unnamed: 16':'Luke Skywalker',\n",
    "                                           'Unnamed: 17':'Princess Leia Organa',\n",
    "                                           'Unnamed: 18':'Anakin Skywalker',\n",
    "                                           'Unnamed: 19':'Obi Wan Kenobi',\n",
    "                                           'Unnamed: 20':'Emperor Palpatine',\n",
    "                                           'Unnamed: 21':'Darth Vader',\n",
    "                                           'Unnamed: 22':'Lando Calrissian',\n",
    "                                           'Unnamed: 23':'Boba Fett',\n",
    "                                           'Unnamed: 24':'C-3P0',\n",
    "                                           'Unnamed: 25':'R2 D2',\n",
    "                                           'Unnamed: 26':'Jar Jar Binks',\n",
    "                                           'Unnamed: 27':'Padme Amidala',\n",
    "                                           'Unnamed: 28':'Yoda',\n",
    "                                           'Do you consider yourself to be a fan of the Expanded Universe?æ':'Do you consider yourself to be a fan of the Expanded Universe?'})\n",
    "StarWars_final.head()"
   ]
  },
  {
   "cell_type": "code",
   "execution_count": 7,
   "metadata": {},
   "outputs": [
    {
     "data": {
      "text/plain": [
       "Index(['RespondentID',\n",
       "       'Have you seen any of the 6 films in the Star Wars franchise?',\n",
       "       'Do you consider yourself to be a fan of the Star Wars film franchise?',\n",
       "       'Seen Episode I The Phantom Menace',\n",
       "       'Seen Episode II  Attack of the Clones',\n",
       "       'Seen Episode III  Revenge of the Sith', 'Seen Episode IV  A New Hope',\n",
       "       'Seen Episode V The Empire Strikes Back',\n",
       "       'Seen Episode VI Return of the Jedi', 'Rank Episode I',\n",
       "       'Rank Episode II', 'Rank Episode III', 'Rank Episode IV',\n",
       "       'Rank Episode V', 'Rank Episode VI', 'Han Solo', 'Luke Skywalker',\n",
       "       'Princess Leia Organa', 'Anakin Skywalker', 'Obi Wan Kenobi',\n",
       "       'Emperor Palpatine', 'Darth Vader', 'Lando Calrissian', 'Boba Fett',\n",
       "       'C-3P0', 'R2 D2', 'Jar Jar Binks', 'Padme Amidala', 'Yoda',\n",
       "       'Which character shot first?',\n",
       "       'Are you familiar with the Expanded Universe?',\n",
       "       'Do you consider yourself to be a fan of the Expanded Universe?',\n",
       "       'Do you consider yourself to be a fan of the Star Trek franchise?',\n",
       "       'Gender', 'Age', 'Household Income', 'Education',\n",
       "       'Location (Census Region)'],\n",
       "      dtype='object')"
      ]
     },
     "execution_count": 7,
     "metadata": {},
     "output_type": "execute_result"
    }
   ],
   "source": [
    "StarWars_final.columns"
   ]
  },
  {
   "cell_type": "code",
   "execution_count": 8,
   "metadata": {},
   "outputs": [
    {
     "data": {
      "text/plain": [
       "(1186, 38)"
      ]
     },
     "execution_count": 8,
     "metadata": {},
     "output_type": "execute_result"
    }
   ],
   "source": [
    "StarWars_final.shape"
   ]
  },
  {
   "cell_type": "code",
   "execution_count": 9,
   "metadata": {},
   "outputs": [
    {
     "data": {
      "text/plain": [
       "RespondentID                                                             float64\n",
       "Have you seen any of the 6 films in the Star Wars franchise?              object\n",
       "Do you consider yourself to be a fan of the Star Wars film franchise?     object\n",
       "Seen Episode I The Phantom Menace                                         object\n",
       "Seen Episode II  Attack of the Clones                                     object\n",
       "Seen Episode III  Revenge of the Sith                                     object\n",
       "Seen Episode IV  A New Hope                                               object\n",
       "Seen Episode V The Empire Strikes Back                                    object\n",
       "Seen Episode VI Return of the Jedi                                        object\n",
       "Rank Episode I                                                            object\n",
       "Rank Episode II                                                           object\n",
       "Rank Episode III                                                          object\n",
       "Rank Episode IV                                                           object\n",
       "Rank Episode V                                                            object\n",
       "Rank Episode VI                                                           object\n",
       "Han Solo                                                                  object\n",
       "Luke Skywalker                                                            object\n",
       "Princess Leia Organa                                                      object\n",
       "Anakin Skywalker                                                          object\n",
       "Obi Wan Kenobi                                                            object\n",
       "Emperor Palpatine                                                         object\n",
       "Darth Vader                                                               object\n",
       "Lando Calrissian                                                          object\n",
       "Boba Fett                                                                 object\n",
       "C-3P0                                                                     object\n",
       "R2 D2                                                                     object\n",
       "Jar Jar Binks                                                             object\n",
       "Padme Amidala                                                             object\n",
       "Yoda                                                                      object\n",
       "Which character shot first?                                               object\n",
       "Are you familiar with the Expanded Universe?                              object\n",
       "Do you consider yourself to be a fan of the Expanded Universe?            object\n",
       "Do you consider yourself to be a fan of the Star Trek franchise?          object\n",
       "Gender                                                                    object\n",
       "Age                                                                       object\n",
       "Household Income                                                          object\n",
       "Education                                                                 object\n",
       "Location (Census Region)                                                  object\n",
       "dtype: object"
      ]
     },
     "execution_count": 9,
     "metadata": {},
     "output_type": "execute_result"
    }
   ],
   "source": [
    "StarWars_final.dtypes"
   ]
  },
  {
   "cell_type": "code",
   "execution_count": 10,
   "metadata": {},
   "outputs": [
    {
     "data": {
      "text/plain": [
       "RespondentID                                                               0\n",
       "Have you seen any of the 6 films in the Star Wars franchise?               0\n",
       "Do you consider yourself to be a fan of the Star Wars film franchise?    350\n",
       "Seen Episode I The Phantom Menace                                        513\n",
       "Seen Episode II  Attack of the Clones                                    615\n",
       "Seen Episode III  Revenge of the Sith                                    636\n",
       "Seen Episode IV  A New Hope                                              579\n",
       "Seen Episode V The Empire Strikes Back                                   428\n",
       "Seen Episode VI Return of the Jedi                                       448\n",
       "Rank Episode I                                                           351\n",
       "Rank Episode II                                                          350\n",
       "Rank Episode III                                                         351\n",
       "Rank Episode IV                                                          350\n",
       "Rank Episode V                                                           350\n",
       "Rank Episode VI                                                          350\n",
       "Han Solo                                                                 357\n",
       "Luke Skywalker                                                           355\n",
       "Princess Leia Organa                                                     355\n",
       "Anakin Skywalker                                                         363\n",
       "Obi Wan Kenobi                                                           361\n",
       "Emperor Palpatine                                                        372\n",
       "Darth Vader                                                              360\n",
       "Lando Calrissian                                                         366\n",
       "Boba Fett                                                                374\n",
       "C-3P0                                                                    359\n",
       "R2 D2                                                                    356\n",
       "Jar Jar Binks                                                            365\n",
       "Padme Amidala                                                            372\n",
       "Yoda                                                                     360\n",
       "Which character shot first?                                              358\n",
       "Are you familiar with the Expanded Universe?                             358\n",
       "Do you consider yourself to be a fan of the Expanded Universe?           973\n",
       "Do you consider yourself to be a fan of the Star Trek franchise?         118\n",
       "Gender                                                                   140\n",
       "Age                                                                      140\n",
       "Household Income                                                         328\n",
       "Education                                                                150\n",
       "Location (Census Region)                                                 143\n",
       "dtype: int64"
      ]
     },
     "execution_count": 10,
     "metadata": {},
     "output_type": "execute_result"
    }
   ],
   "source": [
    "StarWars_final.isna().sum()"
   ]
  },
  {
   "cell_type": "code",
   "execution_count": 11,
   "metadata": {},
   "outputs": [
    {
     "data": {
      "text/plain": [
       "Yes     935\n",
       "No      250\n",
       "Yes       1\n",
       "Name: Have you seen any of the 6 films in the Star Wars franchise?, dtype: int64"
      ]
     },
     "execution_count": 11,
     "metadata": {},
     "output_type": "execute_result"
    }
   ],
   "source": [
    "StarWars_final['Have you seen any of the 6 films in the Star Wars franchise?'].value_counts()"
   ]
  },
  {
   "cell_type": "code",
   "execution_count": 12,
   "metadata": {},
   "outputs": [
    {
     "data": {
      "text/plain": [
       "Yes    936\n",
       "No     250\n",
       "Name: Have you seen any of the 6 films in the Star Wars franchise?, dtype: int64"
      ]
     },
     "execution_count": 12,
     "metadata": {},
     "output_type": "execute_result"
    }
   ],
   "source": [
    "StarWars_final['Have you seen any of the 6 films in the Star Wars franchise?']=StarWars_final['Have you seen any of the 6 films in the Star Wars franchise?'].str.strip()\n",
    "StarWars_final['Have you seen any of the 6 films in the Star Wars franchise?'].value_counts()"
   ]
  },
  {
   "cell_type": "code",
   "execution_count": 13,
   "metadata": {},
   "outputs": [
    {
     "data": {
      "text/plain": [
       "Yes     551\n",
       "No      283\n",
       "Yess      1\n",
       "Noo       1\n",
       "Name: Do you consider yourself to be a fan of the Star Wars film franchise?, dtype: int64"
      ]
     },
     "execution_count": 13,
     "metadata": {},
     "output_type": "execute_result"
    }
   ],
   "source": [
    "StarWars_final['Do you consider yourself to be a fan of the Star Wars film franchise?'].value_counts()"
   ]
  },
  {
   "cell_type": "code",
   "execution_count": 14,
   "metadata": {},
   "outputs": [
    {
     "data": {
      "text/plain": [
       "Yes    552\n",
       "-1     350\n",
       "No     284\n",
       "Name: Do you consider yourself to be a fan of the Star Wars film franchise?, dtype: int64"
      ]
     },
     "execution_count": 14,
     "metadata": {},
     "output_type": "execute_result"
    }
   ],
   "source": [
    "StarWars_final['Do you consider yourself to be a fan of the Star Wars film franchise?'].replace({'Yess':'Yes','Noo':'No'},inplace=True)\n",
    "StarWars_final['Do you consider yourself to be a fan of the Star Wars film franchise?'].fillna(-1,inplace=True)\n",
    "StarWars_final['Do you consider yourself to be a fan of the Star Wars film franchise?'].value_counts()"
   ]
  },
  {
   "cell_type": "code",
   "execution_count": 15,
   "metadata": {},
   "outputs": [
    {
     "data": {
      "text/plain": [
       "Star Wars: Episode I  The Phantom Menace    673\n",
       "Name: Seen Episode I The Phantom Menace, dtype: int64"
      ]
     },
     "execution_count": 15,
     "metadata": {},
     "output_type": "execute_result"
    }
   ],
   "source": [
    "StarWars_final['Seen Episode I The Phantom Menace'].value_counts()"
   ]
  },
  {
   "cell_type": "code",
   "execution_count": 16,
   "metadata": {},
   "outputs": [
    {
     "data": {
      "text/plain": [
       "Star Wars: Episode II  Attack of the Clones    571\n",
       "Name: Seen Episode II  Attack of the Clones, dtype: int64"
      ]
     },
     "execution_count": 16,
     "metadata": {},
     "output_type": "execute_result"
    }
   ],
   "source": [
    "StarWars_final['Seen Episode II  Attack of the Clones'].value_counts()"
   ]
  },
  {
   "cell_type": "code",
   "execution_count": 17,
   "metadata": {},
   "outputs": [
    {
     "data": {
      "text/plain": [
       "Star Wars: Episode III  Revenge of the Sith    550\n",
       "Name: Seen Episode III  Revenge of the Sith, dtype: int64"
      ]
     },
     "execution_count": 17,
     "metadata": {},
     "output_type": "execute_result"
    }
   ],
   "source": [
    "StarWars_final['Seen Episode III  Revenge of the Sith'].value_counts()"
   ]
  },
  {
   "cell_type": "code",
   "execution_count": 18,
   "metadata": {},
   "outputs": [
    {
     "data": {
      "text/plain": [
       "Star Wars: Episode IV  A New Hope    607\n",
       "Name: Seen Episode IV  A New Hope, dtype: int64"
      ]
     },
     "execution_count": 18,
     "metadata": {},
     "output_type": "execute_result"
    }
   ],
   "source": [
    "StarWars_final['Seen Episode IV  A New Hope'].value_counts()"
   ]
  },
  {
   "cell_type": "code",
   "execution_count": 19,
   "metadata": {},
   "outputs": [
    {
     "data": {
      "text/plain": [
       "Star Wars: Episode V The Empire Strikes Back    758\n",
       "Name: Seen Episode V The Empire Strikes Back, dtype: int64"
      ]
     },
     "execution_count": 19,
     "metadata": {},
     "output_type": "execute_result"
    }
   ],
   "source": [
    "StarWars_final['Seen Episode V The Empire Strikes Back'].value_counts()"
   ]
  },
  {
   "cell_type": "code",
   "execution_count": 20,
   "metadata": {},
   "outputs": [
    {
     "data": {
      "text/plain": [
       "Star Wars: Episode VI Return of the Jedi    738\n",
       "Name: Seen Episode VI Return of the Jedi, dtype: int64"
      ]
     },
     "execution_count": 20,
     "metadata": {},
     "output_type": "execute_result"
    }
   ],
   "source": [
    "StarWars_final['Seen Episode VI Return of the Jedi'].value_counts()"
   ]
  },
  {
   "cell_type": "code",
   "execution_count": 21,
   "metadata": {},
   "outputs": [],
   "source": [
    "StarWars_final['Seen Episode I The Phantom Menace'].fillna('No',inplace=True)\n",
    "StarWars_final['Seen Episode II  Attack of the Clones'].fillna('No',inplace=True)\n",
    "StarWars_final['Seen Episode III  Revenge of the Sith'].fillna('No',inplace=True)\n",
    "StarWars_final['Seen Episode IV  A New Hope'].fillna('No',inplace=True)\n",
    "StarWars_final['Seen Episode V The Empire Strikes Back'].fillna('No',inplace=True)\n",
    "StarWars_final['Seen Episode VI Return of the Jedi'].fillna('No',inplace=True)\n",
    "\n",
    "StarWars_final['Seen Episode I The Phantom Menace'].replace({'Star Wars: Episode I  The Phantom Menace':'Yes'},inplace=True)\n",
    "StarWars_final['Seen Episode II  Attack of the Clones'].replace({'Star Wars: Episode II  Attack of the Clones':'Yes'},inplace=True)\n",
    "StarWars_final['Seen Episode III  Revenge of the Sith'].replace({'Star Wars: Episode III  Revenge of the Sith':'Yes'},inplace=True)\n",
    "StarWars_final['Seen Episode IV  A New Hope'].replace({'Star Wars: Episode IV  A New Hope':'Yes'},inplace=True)\n",
    "StarWars_final['Seen Episode V The Empire Strikes Back'].replace({'Star Wars: Episode V The Empire Strikes Back':'Yes'},inplace=True)\n",
    "StarWars_final['Seen Episode VI Return of the Jedi'].replace({'Star Wars: Episode VI Return of the Jedi':'Yes'},inplace=True)"
   ]
  },
  {
   "cell_type": "code",
   "execution_count": 22,
   "metadata": {},
   "outputs": [],
   "source": [
    "StarWars_final['Rank Episode I'].fillna(-1,inplace=True)\n",
    "StarWars_final['Rank Episode II'].fillna(-1,inplace=True)\n",
    "StarWars_final['Rank Episode III'].fillna(-1,inplace=True)\n",
    "StarWars_final['Rank Episode IV'].fillna(-1,inplace=True)\n",
    "StarWars_final['Rank Episode V'].fillna(-1,inplace=True)\n",
    "StarWars_final['Rank Episode VI'].fillna(-1,inplace=True)"
   ]
  },
  {
   "cell_type": "code",
   "execution_count": 23,
   "metadata": {},
   "outputs": [
    {
     "data": {
      "text/plain": [
       "Very favorably                                 610\n",
       "Somewhat favorably                             151\n",
       "Neither favorably nor unfavorably (neutral)     44\n",
       "Unfamiliar (N/A)                                15\n",
       "Somewhat unfavorably                             8\n",
       "Very unfavorably                                 1\n",
       "Name: Han Solo, dtype: int64"
      ]
     },
     "execution_count": 23,
     "metadata": {},
     "output_type": "execute_result"
    }
   ],
   "source": [
    "StarWars_final['Han Solo'].value_counts()"
   ]
  },
  {
   "cell_type": "code",
   "execution_count": 24,
   "metadata": {},
   "outputs": [],
   "source": [
    "StarWars_final['Han Solo'].fillna(-1,inplace=True)\n",
    "StarWars_final['Luke Skywalker'].fillna(-1,inplace=True)\n",
    "StarWars_final['Princess Leia Organa'].fillna(-1,inplace=True)\n",
    "StarWars_final['Anakin Skywalker'].fillna(-1,inplace=True)\n",
    "StarWars_final['Obi Wan Kenobi'].fillna(-1,inplace=True)\n",
    "StarWars_final['Emperor Palpatine'].fillna(-1,inplace=True)\n",
    "StarWars_final['Darth Vader'].fillna(-1,inplace=True)\n",
    "StarWars_final['Lando Calrissian'].fillna(-1,inplace=True)\n",
    "StarWars_final['Boba Fett'].fillna(-1,inplace=True)\n",
    "StarWars_final['C-3P0'].fillna(-1,inplace=True)\n",
    "StarWars_final['R2 D2'].fillna(-1,inplace=True)\n",
    "StarWars_final['Jar Jar Binks'].fillna(-1,inplace=True)\n",
    "StarWars_final['Padme Amidala'].fillna(-1,inplace=True)\n",
    "StarWars_final['Yoda'].fillna(-1,inplace=True)"
   ]
  },
  {
   "cell_type": "code",
   "execution_count": 25,
   "metadata": {},
   "outputs": [
    {
     "data": {
      "text/plain": [
       "Very favorably                                 605\n",
       "-1                                             360\n",
       "Somewhat favorably                             144\n",
       "Neither favorably nor unfavorably (neutral)     51\n",
       "Unfamiliar (N/A)                                10\n",
       "Very unfavorably                                 8\n",
       "Somewhat unfavorably                             8\n",
       "Name: Yoda, dtype: int64"
      ]
     },
     "execution_count": 25,
     "metadata": {},
     "output_type": "execute_result"
    }
   ],
   "source": [
    "StarWars_final['Yoda'].value_counts()"
   ]
  },
  {
   "cell_type": "code",
   "execution_count": 26,
   "metadata": {},
   "outputs": [
    {
     "data": {
      "text/plain": [
       "Han                                 325\n",
       "I don't understand this question    306\n",
       "Greedo                              197\n",
       "Name: Which character shot first?, dtype: int64"
      ]
     },
     "execution_count": 26,
     "metadata": {},
     "output_type": "execute_result"
    }
   ],
   "source": [
    "StarWars_final['Which character shot first?'].value_counts()"
   ]
  },
  {
   "cell_type": "code",
   "execution_count": 27,
   "metadata": {},
   "outputs": [],
   "source": [
    "StarWars_final['Which character shot first?'].fillna(-1,inplace=True)"
   ]
  },
  {
   "cell_type": "code",
   "execution_count": 28,
   "metadata": {},
   "outputs": [
    {
     "data": {
      "text/plain": [
       "No     615\n",
       "Yes    213\n",
       "Name: Are you familiar with the Expanded Universe?, dtype: int64"
      ]
     },
     "execution_count": 28,
     "metadata": {},
     "output_type": "execute_result"
    }
   ],
   "source": [
    "StarWars_final['Are you familiar with the Expanded Universe?'].value_counts()"
   ]
  },
  {
   "cell_type": "code",
   "execution_count": 29,
   "metadata": {},
   "outputs": [],
   "source": [
    "StarWars_final['Are you familiar with the Expanded Universe?'].fillna(-1,inplace=True)"
   ]
  },
  {
   "cell_type": "code",
   "execution_count": 30,
   "metadata": {},
   "outputs": [
    {
     "data": {
      "text/plain": [
       "No      114\n",
       "Yes      98\n",
       "Yess      1\n",
       "Name: Do you consider yourself to be a fan of the Expanded Universe?, dtype: int64"
      ]
     },
     "execution_count": 30,
     "metadata": {},
     "output_type": "execute_result"
    }
   ],
   "source": [
    "StarWars_final['Do you consider yourself to be a fan of the Expanded Universe?'].value_counts()"
   ]
  },
  {
   "cell_type": "code",
   "execution_count": 31,
   "metadata": {},
   "outputs": [
    {
     "data": {
      "text/plain": [
       "-1     973\n",
       "No     114\n",
       "Yes     99\n",
       "Name: Do you consider yourself to be a fan of the Expanded Universe?, dtype: int64"
      ]
     },
     "execution_count": 31,
     "metadata": {},
     "output_type": "execute_result"
    }
   ],
   "source": [
    "StarWars_final['Do you consider yourself to be a fan of the Expanded Universe?'].replace({'Yess':'Yes'},inplace=True)\n",
    "StarWars_final['Do you consider yourself to be a fan of the Expanded Universe?'].fillna(-1,inplace=True)\n",
    "StarWars_final['Do you consider yourself to be a fan of the Expanded Universe?'].value_counts()"
   ]
  },
  {
   "cell_type": "code",
   "execution_count": 32,
   "metadata": {},
   "outputs": [
    {
     "data": {
      "text/plain": [
       "No     639\n",
       "Yes    426\n",
       "yes      1\n",
       "Noo      1\n",
       "no       1\n",
       "Name: Do you consider yourself to be a fan of the Star Trek franchise?, dtype: int64"
      ]
     },
     "execution_count": 32,
     "metadata": {},
     "output_type": "execute_result"
    }
   ],
   "source": [
    "StarWars_final['Do you consider yourself to be a fan of the Star Trek franchise?'].value_counts()"
   ]
  },
  {
   "cell_type": "code",
   "execution_count": 33,
   "metadata": {},
   "outputs": [
    {
     "data": {
      "text/plain": [
       "No     641\n",
       "Yes    427\n",
       "-1     118\n",
       "Name: Do you consider yourself to be a fan of the Star Trek franchise?, dtype: int64"
      ]
     },
     "execution_count": 33,
     "metadata": {},
     "output_type": "execute_result"
    }
   ],
   "source": [
    "StarWars_final['Do you consider yourself to be a fan of the Star Trek franchise?']=StarWars_final['Do you consider yourself to be a fan of the Star Trek franchise?'].str.strip()\n",
    "StarWars_final['Do you consider yourself to be a fan of the Star Trek franchise?'].replace({'yes':'Yes','Noo':'No','no':'No'},inplace=True)\n",
    "StarWars_final['Do you consider yourself to be a fan of the Star Trek franchise?'].fillna(-1,inplace=True)\n",
    "StarWars_final['Do you consider yourself to be a fan of the Star Trek franchise?'].value_counts()"
   ]
  },
  {
   "cell_type": "code",
   "execution_count": 34,
   "metadata": {},
   "outputs": [
    {
     "data": {
      "text/plain": [
       "Female    546\n",
       "Male      496\n",
       "female      2\n",
       "male        1\n",
       "F           1\n",
       "Name: Gender, dtype: int64"
      ]
     },
     "execution_count": 34,
     "metadata": {},
     "output_type": "execute_result"
    }
   ],
   "source": [
    "StarWars_final['Gender'].value_counts()"
   ]
  },
  {
   "cell_type": "code",
   "execution_count": 35,
   "metadata": {},
   "outputs": [
    {
     "data": {
      "text/plain": [
       "Female    549\n",
       "Male      497\n",
       "Name: Gender, dtype: int64"
      ]
     },
     "execution_count": 35,
     "metadata": {},
     "output_type": "execute_result"
    }
   ],
   "source": [
    "StarWars_final['Gender']=StarWars_final['Gender'].str.strip()\n",
    "StarWars_final['Gender'].replace({'female':'Female','male':'Male','F':'Female'},inplace=True)\n",
    "StarWars_final['Gender'].value_counts()"
   ]
  },
  {
   "cell_type": "code",
   "execution_count": 36,
   "metadata": {},
   "outputs": [
    {
     "data": {
      "text/plain": [
       "0    Female\n",
       "dtype: object"
      ]
     },
     "execution_count": 36,
     "metadata": {},
     "output_type": "execute_result"
    }
   ],
   "source": [
    "StarWars_final['Gender'].mode()"
   ]
  },
  {
   "cell_type": "code",
   "execution_count": 37,
   "metadata": {},
   "outputs": [],
   "source": [
    "StarWars_final['Gender'].fillna('Female',inplace=True)"
   ]
  },
  {
   "cell_type": "code",
   "execution_count": 38,
   "metadata": {},
   "outputs": [
    {
     "data": {
      "text/plain": [
       "45-60    291\n",
       "> 60     269\n",
       "30-44    268\n",
       "18-29    217\n",
       "500        1\n",
       "Name: Age, dtype: int64"
      ]
     },
     "execution_count": 38,
     "metadata": {},
     "output_type": "execute_result"
    }
   ],
   "source": [
    "StarWars_final['Age'].value_counts()"
   ]
  },
  {
   "cell_type": "code",
   "execution_count": 39,
   "metadata": {},
   "outputs": [
    {
     "data": {
      "text/plain": [
       "45-60    292\n",
       "> 60     269\n",
       "30-44    268\n",
       "18-29    217\n",
       "Name: Age, dtype: int64"
      ]
     },
     "execution_count": 39,
     "metadata": {},
     "output_type": "execute_result"
    }
   ],
   "source": [
    "StarWars_final['Age']=StarWars_final['Age'].str.strip()\n",
    "StarWars_final['Age'].replace({'500':'45-60'},inplace=True)\n",
    "StarWars_final['Age'].value_counts()"
   ]
  },
  {
   "cell_type": "code",
   "execution_count": 40,
   "metadata": {},
   "outputs": [
    {
     "data": {
      "text/plain": [
       "0    45-60\n",
       "dtype: object"
      ]
     },
     "execution_count": 40,
     "metadata": {},
     "output_type": "execute_result"
    }
   ],
   "source": [
    "StarWars_final['Age'].mode()"
   ]
  },
  {
   "cell_type": "code",
   "execution_count": 41,
   "metadata": {},
   "outputs": [],
   "source": [
    "StarWars_final['Age'].fillna('45-60',inplace=True)"
   ]
  },
  {
   "cell_type": "code",
   "execution_count": 42,
   "metadata": {},
   "outputs": [
    {
     "data": {
      "text/plain": [
       "$50,000 - $99,999      298\n",
       "$25,000 - $49,999      186\n",
       "$100,000 - $149,999    141\n",
       "$0 - $24,999           138\n",
       "$150,000+               95\n",
       "Name: Household Income, dtype: int64"
      ]
     },
     "execution_count": 42,
     "metadata": {},
     "output_type": "execute_result"
    }
   ],
   "source": [
    "StarWars_final['Household Income'].value_counts()"
   ]
  },
  {
   "cell_type": "code",
   "execution_count": 43,
   "metadata": {},
   "outputs": [
    {
     "data": {
      "text/plain": [
       "0    $50,000 - $99,999\n",
       "dtype: object"
      ]
     },
     "execution_count": 43,
     "metadata": {},
     "output_type": "execute_result"
    }
   ],
   "source": [
    "StarWars_final['Household Income'].mode()"
   ]
  },
  {
   "cell_type": "code",
   "execution_count": 44,
   "metadata": {},
   "outputs": [],
   "source": [
    "StarWars_final['Household Income'].fillna('$50,000 - $99,999',inplace=True)"
   ]
  },
  {
   "cell_type": "code",
   "execution_count": 45,
   "metadata": {},
   "outputs": [
    {
     "data": {
      "text/plain": [
       "Some college or Associate degree    328\n",
       "Bachelor degree                     321\n",
       "Graduate degree                     275\n",
       "High school degree                  105\n",
       "Less than high school degree          7\n",
       "Name: Education, dtype: int64"
      ]
     },
     "execution_count": 45,
     "metadata": {},
     "output_type": "execute_result"
    }
   ],
   "source": [
    "StarWars_final['Education'].value_counts()"
   ]
  },
  {
   "cell_type": "code",
   "execution_count": 46,
   "metadata": {},
   "outputs": [
    {
     "data": {
      "text/plain": [
       "0    Some college or Associate degree\n",
       "dtype: object"
      ]
     },
     "execution_count": 46,
     "metadata": {},
     "output_type": "execute_result"
    }
   ],
   "source": [
    "StarWars_final['Education'].mode()"
   ]
  },
  {
   "cell_type": "code",
   "execution_count": 47,
   "metadata": {},
   "outputs": [],
   "source": [
    "StarWars_final['Education'].fillna('Some college or Associate degree',inplace=True)"
   ]
  },
  {
   "cell_type": "code",
   "execution_count": 48,
   "metadata": {
    "scrolled": true
   },
   "outputs": [
    {
     "data": {
      "text/plain": [
       "East North Central    181\n",
       "Pacific               175\n",
       "South Atlantic        170\n",
       "Middle Atlantic       122\n",
       "West South Central    110\n",
       "West North Central     93\n",
       "Mountain               79\n",
       "New England            75\n",
       "East South Central     38\n",
       "Name: Location (Census Region), dtype: int64"
      ]
     },
     "execution_count": 48,
     "metadata": {},
     "output_type": "execute_result"
    }
   ],
   "source": [
    "StarWars_final['Location (Census Region)'].value_counts()"
   ]
  },
  {
   "cell_type": "code",
   "execution_count": 49,
   "metadata": {},
   "outputs": [
    {
     "data": {
      "text/plain": [
       "0    East North Central\n",
       "dtype: object"
      ]
     },
     "execution_count": 49,
     "metadata": {},
     "output_type": "execute_result"
    }
   ],
   "source": [
    "StarWars_final['Location (Census Region)'].mode()"
   ]
  },
  {
   "cell_type": "code",
   "execution_count": 50,
   "metadata": {},
   "outputs": [],
   "source": [
    "StarWars_final['Location (Census Region)'].fillna('East North Central',inplace=True)"
   ]
  },
  {
   "cell_type": "code",
   "execution_count": 51,
   "metadata": {},
   "outputs": [
    {
     "data": {
      "text/html": [
       "<div>\n",
       "<style scoped>\n",
       "    .dataframe tbody tr th:only-of-type {\n",
       "        vertical-align: middle;\n",
       "    }\n",
       "\n",
       "    .dataframe tbody tr th {\n",
       "        vertical-align: top;\n",
       "    }\n",
       "\n",
       "    .dataframe thead th {\n",
       "        text-align: right;\n",
       "    }\n",
       "</style>\n",
       "<table border=\"1\" class=\"dataframe\">\n",
       "  <thead>\n",
       "    <tr style=\"text-align: right;\">\n",
       "      <th></th>\n",
       "      <th>RespondentID</th>\n",
       "      <th>Have you seen any of the 6 films in the Star Wars franchise?</th>\n",
       "      <th>Do you consider yourself to be a fan of the Star Wars film franchise?</th>\n",
       "      <th>Seen Episode I The Phantom Menace</th>\n",
       "      <th>Seen Episode II  Attack of the Clones</th>\n",
       "      <th>Seen Episode III  Revenge of the Sith</th>\n",
       "      <th>Seen Episode IV  A New Hope</th>\n",
       "      <th>Seen Episode V The Empire Strikes Back</th>\n",
       "      <th>Seen Episode VI Return of the Jedi</th>\n",
       "      <th>Rank Episode I</th>\n",
       "      <th>...</th>\n",
       "      <th>Yoda</th>\n",
       "      <th>Which character shot first?</th>\n",
       "      <th>Are you familiar with the Expanded Universe?</th>\n",
       "      <th>Do you consider yourself to be a fan of the Expanded Universe?</th>\n",
       "      <th>Do you consider yourself to be a fan of the Star Trek franchise?</th>\n",
       "      <th>Gender</th>\n",
       "      <th>Age</th>\n",
       "      <th>Household Income</th>\n",
       "      <th>Education</th>\n",
       "      <th>Location (Census Region)</th>\n",
       "    </tr>\n",
       "  </thead>\n",
       "  <tbody>\n",
       "    <tr>\n",
       "      <td>1</td>\n",
       "      <td>3.292880e+09</td>\n",
       "      <td>Yes</td>\n",
       "      <td>Yes</td>\n",
       "      <td>Yes</td>\n",
       "      <td>Yes</td>\n",
       "      <td>Yes</td>\n",
       "      <td>Yes</td>\n",
       "      <td>Yes</td>\n",
       "      <td>Yes</td>\n",
       "      <td>3</td>\n",
       "      <td>...</td>\n",
       "      <td>Very favorably</td>\n",
       "      <td>I don't understand this question</td>\n",
       "      <td>Yes</td>\n",
       "      <td>No</td>\n",
       "      <td>No</td>\n",
       "      <td>Male</td>\n",
       "      <td>18-29</td>\n",
       "      <td>$50,000 - $99,999</td>\n",
       "      <td>High school degree</td>\n",
       "      <td>South Atlantic</td>\n",
       "    </tr>\n",
       "    <tr>\n",
       "      <td>2</td>\n",
       "      <td>3.292880e+09</td>\n",
       "      <td>No</td>\n",
       "      <td>-1</td>\n",
       "      <td>No</td>\n",
       "      <td>No</td>\n",
       "      <td>No</td>\n",
       "      <td>No</td>\n",
       "      <td>No</td>\n",
       "      <td>No</td>\n",
       "      <td>-1</td>\n",
       "      <td>...</td>\n",
       "      <td>-1</td>\n",
       "      <td>-1</td>\n",
       "      <td>-1</td>\n",
       "      <td>-1</td>\n",
       "      <td>Yes</td>\n",
       "      <td>Male</td>\n",
       "      <td>18-29</td>\n",
       "      <td>$0 - $24,999</td>\n",
       "      <td>Bachelor degree</td>\n",
       "      <td>West South Central</td>\n",
       "    </tr>\n",
       "    <tr>\n",
       "      <td>3</td>\n",
       "      <td>3.292765e+09</td>\n",
       "      <td>Yes</td>\n",
       "      <td>No</td>\n",
       "      <td>Yes</td>\n",
       "      <td>Yes</td>\n",
       "      <td>Yes</td>\n",
       "      <td>No</td>\n",
       "      <td>No</td>\n",
       "      <td>No</td>\n",
       "      <td>1</td>\n",
       "      <td>...</td>\n",
       "      <td>Unfamiliar (N/A)</td>\n",
       "      <td>I don't understand this question</td>\n",
       "      <td>No</td>\n",
       "      <td>-1</td>\n",
       "      <td>No</td>\n",
       "      <td>Male</td>\n",
       "      <td>18-29</td>\n",
       "      <td>$0 - $24,999</td>\n",
       "      <td>High school degree</td>\n",
       "      <td>West North Central</td>\n",
       "    </tr>\n",
       "    <tr>\n",
       "      <td>4</td>\n",
       "      <td>3.292763e+09</td>\n",
       "      <td>Yes</td>\n",
       "      <td>Yes</td>\n",
       "      <td>Yes</td>\n",
       "      <td>Yes</td>\n",
       "      <td>Yes</td>\n",
       "      <td>Yes</td>\n",
       "      <td>Yes</td>\n",
       "      <td>Yes</td>\n",
       "      <td>5</td>\n",
       "      <td>...</td>\n",
       "      <td>Very favorably</td>\n",
       "      <td>I don't understand this question</td>\n",
       "      <td>No</td>\n",
       "      <td>-1</td>\n",
       "      <td>Yes</td>\n",
       "      <td>Male</td>\n",
       "      <td>18-29</td>\n",
       "      <td>$100,000 - $149,999</td>\n",
       "      <td>Some college or Associate degree</td>\n",
       "      <td>West North Central</td>\n",
       "    </tr>\n",
       "    <tr>\n",
       "      <td>5</td>\n",
       "      <td>3.292731e+09</td>\n",
       "      <td>Yes</td>\n",
       "      <td>Yes</td>\n",
       "      <td>Yes</td>\n",
       "      <td>Yes</td>\n",
       "      <td>Yes</td>\n",
       "      <td>Yes</td>\n",
       "      <td>Yes</td>\n",
       "      <td>Yes</td>\n",
       "      <td>5</td>\n",
       "      <td>...</td>\n",
       "      <td>Somewhat favorably</td>\n",
       "      <td>Greedo</td>\n",
       "      <td>Yes</td>\n",
       "      <td>No</td>\n",
       "      <td>No</td>\n",
       "      <td>Male</td>\n",
       "      <td>18-29</td>\n",
       "      <td>$100,000 - $149,999</td>\n",
       "      <td>Some college or Associate degree</td>\n",
       "      <td>West North Central</td>\n",
       "    </tr>\n",
       "  </tbody>\n",
       "</table>\n",
       "<p>5 rows × 38 columns</p>\n",
       "</div>"
      ],
      "text/plain": [
       "   RespondentID Have you seen any of the 6 films in the Star Wars franchise?  \\\n",
       "1  3.292880e+09                                                Yes             \n",
       "2  3.292880e+09                                                 No             \n",
       "3  3.292765e+09                                                Yes             \n",
       "4  3.292763e+09                                                Yes             \n",
       "5  3.292731e+09                                                Yes             \n",
       "\n",
       "  Do you consider yourself to be a fan of the Star Wars film franchise?  \\\n",
       "1                                                Yes                      \n",
       "2                                                 -1                      \n",
       "3                                                 No                      \n",
       "4                                                Yes                      \n",
       "5                                                Yes                      \n",
       "\n",
       "  Seen Episode I The Phantom Menace Seen Episode II  Attack of the Clones  \\\n",
       "1                               Yes                                   Yes   \n",
       "2                                No                                    No   \n",
       "3                               Yes                                   Yes   \n",
       "4                               Yes                                   Yes   \n",
       "5                               Yes                                   Yes   \n",
       "\n",
       "  Seen Episode III  Revenge of the Sith Seen Episode IV  A New Hope  \\\n",
       "1                                   Yes                         Yes   \n",
       "2                                    No                          No   \n",
       "3                                   Yes                          No   \n",
       "4                                   Yes                         Yes   \n",
       "5                                   Yes                         Yes   \n",
       "\n",
       "  Seen Episode V The Empire Strikes Back Seen Episode VI Return of the Jedi  \\\n",
       "1                                    Yes                                Yes   \n",
       "2                                     No                                 No   \n",
       "3                                     No                                 No   \n",
       "4                                    Yes                                Yes   \n",
       "5                                    Yes                                Yes   \n",
       "\n",
       "  Rank Episode I  ...                Yoda       Which character shot first?  \\\n",
       "1              3  ...      Very favorably  I don't understand this question   \n",
       "2             -1  ...                  -1                                -1   \n",
       "3              1  ...    Unfamiliar (N/A)  I don't understand this question   \n",
       "4              5  ...      Very favorably  I don't understand this question   \n",
       "5              5  ...  Somewhat favorably                            Greedo   \n",
       "\n",
       "  Are you familiar with the Expanded Universe?  \\\n",
       "1                                          Yes   \n",
       "2                                           -1   \n",
       "3                                           No   \n",
       "4                                           No   \n",
       "5                                          Yes   \n",
       "\n",
       "  Do you consider yourself to be a fan of the Expanded Universe?  \\\n",
       "1                                                 No               \n",
       "2                                                 -1               \n",
       "3                                                 -1               \n",
       "4                                                 -1               \n",
       "5                                                 No               \n",
       "\n",
       "  Do you consider yourself to be a fan of the Star Trek franchise? Gender  \\\n",
       "1                                                 No                 Male   \n",
       "2                                                Yes                 Male   \n",
       "3                                                 No                 Male   \n",
       "4                                                Yes                 Male   \n",
       "5                                                 No                 Male   \n",
       "\n",
       "     Age     Household Income                         Education  \\\n",
       "1  18-29    $50,000 - $99,999                High school degree   \n",
       "2  18-29         $0 - $24,999                   Bachelor degree   \n",
       "3  18-29         $0 - $24,999                High school degree   \n",
       "4  18-29  $100,000 - $149,999  Some college or Associate degree   \n",
       "5  18-29  $100,000 - $149,999  Some college or Associate degree   \n",
       "\n",
       "  Location (Census Region)  \n",
       "1           South Atlantic  \n",
       "2       West South Central  \n",
       "3       West North Central  \n",
       "4       West North Central  \n",
       "5       West North Central  \n",
       "\n",
       "[5 rows x 38 columns]"
      ]
     },
     "execution_count": 51,
     "metadata": {},
     "output_type": "execute_result"
    }
   ],
   "source": [
    "StarWars_final.head()"
   ]
  },
  {
   "cell_type": "code",
   "execution_count": 52,
   "metadata": {},
   "outputs": [
    {
     "data": {
      "text/plain": [
       "RespondentID                                                             0\n",
       "Have you seen any of the 6 films in the Star Wars franchise?             0\n",
       "Do you consider yourself to be a fan of the Star Wars film franchise?    0\n",
       "Seen Episode I The Phantom Menace                                        0\n",
       "Seen Episode II  Attack of the Clones                                    0\n",
       "Seen Episode III  Revenge of the Sith                                    0\n",
       "Seen Episode IV  A New Hope                                              0\n",
       "Seen Episode V The Empire Strikes Back                                   0\n",
       "Seen Episode VI Return of the Jedi                                       0\n",
       "Rank Episode I                                                           0\n",
       "Rank Episode II                                                          0\n",
       "Rank Episode III                                                         0\n",
       "Rank Episode IV                                                          0\n",
       "Rank Episode V                                                           0\n",
       "Rank Episode VI                                                          0\n",
       "Han Solo                                                                 0\n",
       "Luke Skywalker                                                           0\n",
       "Princess Leia Organa                                                     0\n",
       "Anakin Skywalker                                                         0\n",
       "Obi Wan Kenobi                                                           0\n",
       "Emperor Palpatine                                                        0\n",
       "Darth Vader                                                              0\n",
       "Lando Calrissian                                                         0\n",
       "Boba Fett                                                                0\n",
       "C-3P0                                                                    0\n",
       "R2 D2                                                                    0\n",
       "Jar Jar Binks                                                            0\n",
       "Padme Amidala                                                            0\n",
       "Yoda                                                                     0\n",
       "Which character shot first?                                              0\n",
       "Are you familiar with the Expanded Universe?                             0\n",
       "Do you consider yourself to be a fan of the Expanded Universe?           0\n",
       "Do you consider yourself to be a fan of the Star Trek franchise?         0\n",
       "Gender                                                                   0\n",
       "Age                                                                      0\n",
       "Household Income                                                         0\n",
       "Education                                                                0\n",
       "Location (Census Region)                                                 0\n",
       "dtype: int64"
      ]
     },
     "execution_count": 52,
     "metadata": {},
     "output_type": "execute_result"
    }
   ],
   "source": [
    "StarWars_final.isna().sum()"
   ]
  },
  {
   "cell_type": "markdown",
   "metadata": {},
   "source": [
    "### Data Exploration "
   ]
  },
  {
   "cell_type": "markdown",
   "metadata": {},
   "source": [
    "##### part1"
   ]
  },
  {
   "cell_type": "code",
   "execution_count": 53,
   "metadata": {
    "scrolled": true
   },
   "outputs": [],
   "source": [
    "#episode1\n",
    "e1_r1=sum(StarWars_final['Rank Episode I']=='1')\n",
    "e1_r2=sum(StarWars_final['Rank Episode I']=='2')\n",
    "e1_r3=sum(StarWars_final['Rank Episode I']=='3')\n",
    "e1_r4=sum(StarWars_final['Rank Episode I']=='4')\n",
    "e1_r5=sum(StarWars_final['Rank Episode I']=='5')\n",
    "e1_r6=sum(StarWars_final['Rank Episode I']=='6')\n",
    "\n",
    "e1_b=[e1_r1,e1_r2,e1_r3,e1_r4,e1_r5,e1_r6]\n",
    "rank=['rank1','rank2','rank3','rank4','rank5','rank6']"
   ]
  },
  {
   "cell_type": "code",
   "execution_count": 54,
   "metadata": {},
   "outputs": [
    {
     "data": {
      "image/png": "[encoded data removed]",
      "text/plain": [
       "<Figure size 432x288 with 1 Axes>"
      ]
     },
     "metadata": {
      "needs_background": "light"
     },
     "output_type": "display_data"
    }
   ],
   "source": [
    "fig = plt.figure()\n",
    "ax = fig.add_axes([0,0,1,1])\n",
    "ax.bar(rank,e1_b)\n",
    "ax.set_title('Rankng of Star Wars Episode I The Phantom Menace')\n",
    "plt.show()"
   ]
  },
  {
   "cell_type": "code",
   "execution_count": 55,
   "metadata": {},
   "outputs": [
    {
     "data": {
      "image/png": "[encoded data removed]",
      "text/plain": [
       "<Figure size 432x288 with 1 Axes>"
      ]
     },
     "metadata": {
      "needs_background": "light"
     },
     "output_type": "display_data"
    }
   ],
   "source": [
    "#episode2\n",
    "e2_r1=sum(StarWars_final['Rank Episode II']=='1')\n",
    "e2_r2=sum(StarWars_final['Rank Episode II']=='2')\n",
    "e2_r3=sum(StarWars_final['Rank Episode II']=='3')\n",
    "e2_r4=sum(StarWars_final['Rank Episode II']=='4')\n",
    "e2_r5=sum(StarWars_final['Rank Episode II']=='5')\n",
    "e2_r6=sum(StarWars_final['Rank Episode II']=='6')\n",
    "\n",
    "e2_b=[e2_r1,e2_r2,e2_r3,e2_r4,e2_r5,e2_r6]\n",
    "fig = plt.figure()\n",
    "ax = fig.add_axes([0,0,1,1])\n",
    "ax.bar(rank,e2_b)\n",
    "ax.set_title('Rankng of Star Wars Episode II Attack of the Clones')\n",
    "plt.show()"
   ]
  },
  {
   "cell_type": "code",
   "execution_count": 56,
   "metadata": {},
   "outputs": [
    {
     "data": {
      "image/png": "[encoded data removed]",
      "text/plain": [
       "<Figure size 432x288 with 1 Axes>"
      ]
     },
     "metadata": {
      "needs_background": "light"
     },
     "output_type": "display_data"
    }
   ],
   "source": [
    "#episode3\n",
    "e3_r1=sum(StarWars_final['Rank Episode III']=='1')\n",
    "e3_r2=sum(StarWars_final['Rank Episode III']=='2')\n",
    "e3_r3=sum(StarWars_final['Rank Episode III']=='3')\n",
    "e3_r4=sum(StarWars_final['Rank Episode III']=='4')\n",
    "e3_r5=sum(StarWars_final['Rank Episode III']=='5')\n",
    "e3_r6=sum(StarWars_final['Rank Episode III']=='6')\n",
    "\n",
    "e3_b=[e3_r1,e3_r2,e3_r3,e3_r4,e3_r5,e3_r6]\n",
    "fig = plt.figure()\n",
    "ax = fig.add_axes([0,0,1,1])\n",
    "ax.bar(rank,e3_b)\n",
    "ax.set_title('Rankng of Star Wars Episode III Revenge of the Sith')\n",
    "plt.show()"
   ]
  },
  {
   "cell_type": "code",
   "execution_count": 57,
   "metadata": {},
   "outputs": [
    {
     "data": {
      "image/png": "[encoded data removed]",
      "text/plain": [
       "<Figure size 432x288 with 1 Axes>"
      ]
     },
     "metadata": {
      "needs_background": "light"
     },
     "output_type": "display_data"
    }
   ],
   "source": [
    "#episode4\n",
    "e4_r1=sum(StarWars_final['Rank Episode IV']=='1')\n",
    "e4_r2=sum(StarWars_final['Rank Episode IV']=='2')\n",
    "e4_r3=sum(StarWars_final['Rank Episode IV']=='3')\n",
    "e4_r4=sum(StarWars_final['Rank Episode IV']=='4')\n",
    "e4_r5=sum(StarWars_final['Rank Episode IV']=='5')\n",
    "e4_r6=sum(StarWars_final['Rank Episode IV']=='6')\n",
    "\n",
    "e4_b=[e4_r1,e4_r2,e4_r3,e4_r4,e4_r5,e4_r6]\n",
    "fig = plt.figure()\n",
    "ax = fig.add_axes([0,0,1,1])\n",
    "ax.bar(rank,e4_b)\n",
    "ax.set_title('Rankng of Star Wars Episode IV A New Hope')\n",
    "plt.show()"
   ]
  },
  {
   "cell_type": "code",
   "execution_count": 58,
   "metadata": {},
   "outputs": [
    {
     "data": {
      "image/png": "[encoded data removed]",
      "text/plain": [
       "<Figure size 432x288 with 1 Axes>"
      ]
     },
     "metadata": {
      "needs_background": "light"
     },
     "output_type": "display_data"
    }
   ],
   "source": [
    "#episode5\n",
    "e5_r1=sum(StarWars_final['Rank Episode V']=='1')\n",
    "e5_r2=sum(StarWars_final['Rank Episode V']=='2')\n",
    "e5_r3=sum(StarWars_final['Rank Episode V']=='3')\n",
    "e5_r4=sum(StarWars_final['Rank Episode V']=='4')\n",
    "e5_r5=sum(StarWars_final['Rank Episode V']=='5')\n",
    "e5_r6=sum(StarWars_final['Rank Episode V']=='6')\n",
    "\n",
    "e5_b=[e5_r1,e5_r2,e5_r3,e5_r4,e5_r5,e5_r6]\n",
    "fig = plt.figure()\n",
    "ax = fig.add_axes([0,0,1,1])\n",
    "ax.set_title('Rankng of Star Wars Episode V The Empire Strikes Back')\n",
    "ax.bar(rank,e5_b)\n",
    "plt.show()"
   ]
  },
  {
   "cell_type": "code",
   "execution_count": 59,
   "metadata": {},
   "outputs": [
    {
     "data": {
      "image/png": "[encoded data removed]",
      "text/plain": [
       "<Figure size 432x288 with 1 Axes>"
      ]
     },
     "metadata": {
      "needs_background": "light"
     },
     "output_type": "display_data"
    }
   ],
   "source": [
    "#episode6\n",
    "e6_r1=sum(StarWars_final['Rank Episode VI']=='1')\n",
    "e6_r2=sum(StarWars_final['Rank Episode VI']=='2')\n",
    "e6_r3=sum(StarWars_final['Rank Episode VI']=='3')\n",
    "e6_r4=sum(StarWars_final['Rank Episode VI']=='4')\n",
    "e6_r5=sum(StarWars_final['Rank Episode VI']=='5')\n",
    "e6_r6=sum(StarWars_final['Rank Episode VI']=='6')\n",
    "\n",
    "e6_b=[e6_r1,e6_r2,e6_r3,e6_r4,e6_r5,e6_r6]\n",
    "fig = plt.figure()\n",
    "ax = fig.add_axes([0,0,1,1])\n",
    "ax.bar(rank,e6_b)\n",
    "ax.set_title('Rankng of Star Wars Episode VI Return of the Jedi')\n",
    "plt.show()"
   ]
  },
  {
   "cell_type": "markdown",
   "metadata": {},
   "source": [
    "###### part2\n"
   ]
  },
  {
   "cell_type": "code",
   "execution_count": 60,
   "metadata": {},
   "outputs": [
    {
     "data": {
      "text/html": [
       "<div>\n",
       "<style scoped>\n",
       "    .dataframe tbody tr th:only-of-type {\n",
       "        vertical-align: middle;\n",
       "    }\n",
       "\n",
       "    .dataframe tbody tr th {\n",
       "        vertical-align: top;\n",
       "    }\n",
       "\n",
       "    .dataframe thead th {\n",
       "        text-align: right;\n",
       "    }\n",
       "</style>\n",
       "<table border=\"1\" class=\"dataframe\">\n",
       "  <thead>\n",
       "    <tr style=\"text-align: right;\">\n",
       "      <th></th>\n",
       "      <th></th>\n",
       "    </tr>\n",
       "    <tr>\n",
       "      <th>Do you consider yourself to be a fan of the Star Wars film franchise?</th>\n",
       "      <th>Gender</th>\n",
       "    </tr>\n",
       "  </thead>\n",
       "  <tbody>\n",
       "    <tr>\n",
       "      <td rowspan=\"2\" valign=\"top\">No</td>\n",
       "      <td>Female</td>\n",
       "    </tr>\n",
       "    <tr>\n",
       "      <td>Male</td>\n",
       "    </tr>\n",
       "    <tr>\n",
       "      <td rowspan=\"2\" valign=\"top\">Yes</td>\n",
       "      <td>Female</td>\n",
       "    </tr>\n",
       "    <tr>\n",
       "      <td>Male</td>\n",
       "    </tr>\n",
       "  </tbody>\n",
       "</table>\n",
       "</div>"
      ],
      "text/plain": [
       "Empty DataFrame\n",
       "Columns: []\n",
       "Index: [(No, Female), (No, Male), (Yes, Female), (Yes, Male)]"
      ]
     },
     "execution_count": 60,
     "metadata": {},
     "output_type": "execute_result"
    }
   ],
   "source": [
    "#Hypothesis 1: Most of the Star Wars Fans are Male \n",
    "df=StarWars_final.loc[(StarWars_final['Do you consider yourself to be a fan of the Star Wars film franchise?']!=-1),['Do you consider yourself to be a fan of the Star Wars film franchise?','Gender']]\n",
    "g=df.groupby(['Do you consider yourself to be a fan of the Star Wars film franchise?','Gender'])\n",
    "g.first()"
   ]
  },
  {
   "cell_type": "code",
   "execution_count": 61,
   "metadata": {},
   "outputs": [
    {
     "data": {
      "image/png": "[encoded data removed]",
      "text/plain": [
       "<Figure size 432x288 with 1 Axes>"
      ]
     },
     "metadata": {
      "needs_background": "light"
     },
     "output_type": "display_data"
    }
   ],
   "source": [
    "fan = ['Yes','No']\n",
    "F_yes=sum((df['Do you consider yourself to be a fan of the Star Wars film franchise?']=='Yes')&(df['Gender']=='Female'))\n",
    "F_No=sum((df['Do you consider yourself to be a fan of the Star Wars film franchise?']=='No')&(df['Gender']=='Female'))\n",
    "\n",
    "M_yes=sum((df['Do you consider yourself to be a fan of the Star Wars film franchise?']=='Yes')&(df['Gender']=='Male'))\n",
    "M_No=sum((df['Do you consider yourself to be a fan of the Star Wars film franchise?']=='No')&(df['Gender']=='Male'))\n",
    "\n",
    "men=[M_yes,M_No]\n",
    "women=[F_yes,F_No]\n",
    "width=0.35\n",
    "fig = plt.figure()\n",
    "ax = fig.add_axes([0,0,0.8,1])\n",
    "ax.bar(fan, men, width, color='b')\n",
    "ax.bar(fan, women, width,bottom=men, color='r')\n",
    "ax.set_ylabel('Number of fans')\n",
    "ax.set_title('Fans by gender')\n",
    "ax.set_yticks(np.arange(0, 800, 100))\n",
    "ax.legend(labels=['Male', 'Female'])\n",
    "plt.show()"
   ]
  },
  {
   "cell_type": "code",
   "execution_count": 62,
   "metadata": {},
   "outputs": [
    {
     "data": {
      "image/png": "[encoded data removed]",
      "text/plain": [
       "<Figure size 432x288 with 1 Axes>"
      ]
     },
     "metadata": {},
     "output_type": "display_data"
    }
   ],
   "source": [
    "#Hypothesis 2: Darth Vader is very favorable character than Han solo\n",
    "\n",
    "df1=StarWars_final[['Han Solo','Darth Vader']]\n",
    "d=sum(df1['Han Solo']=='Very favorably')\n",
    "h=sum(df1['Darth Vader']=='Very favorably')\n",
    "\n",
    "height=[d,h]\n",
    "name=['Han Solo','Darth Vader']\n",
    "width=0.4\n",
    "fig = plt.figure()\n",
    "ax = fig.add_axes([0,0,1,1])\n",
    "ax.pie(height, labels = name,autopct='%1.2f%%')\n",
    "plt.show()"
   ]
  },
  {
   "cell_type": "code",
   "execution_count": 63,
   "metadata": {},
   "outputs": [
    {
     "data": {
      "image/png": "[encoded data removed]",
      "text/plain": [
       "<Figure size 432x288 with 1 Axes>"
      ]
     },
     "metadata": {
      "needs_background": "light"
     },
     "output_type": "display_data"
    }
   ],
   "source": [
    "#Hypothesis 3: Most of the fans of Star Wars are between 18-29 age \n",
    "df2=StarWars_final[['Do you consider yourself to be a fan of the Star Wars film franchise?','Age']]\n",
    "a1=sum((df2['Do you consider yourself to be a fan of the Star Wars film franchise?']=='Yes')&(df2['Age']=='18-29'))\n",
    "a2=sum((df2['Do you consider yourself to be a fan of the Star Wars film franchise?']=='Yes')&(df2['Age']=='30-44'))\n",
    "a3=sum((df2['Do you consider yourself to be a fan of the Star Wars film franchise?']=='Yes')&(df2['Age']=='45-60'))\n",
    "a4=sum((df2['Do you consider yourself to be a fan of the Star Wars film franchise?']=='Yes')&(df2['Age']=='> 60'))\n",
    "\n",
    "age_height=[a1,a2,a3,a4]\n",
    "age_l=['18-29','30-44','45-60','>60']\n",
    "width=0.4\n",
    "fig = plt.figure()\n",
    "ax = fig.add_axes([0,0,1,1])\n",
    "ax.set_ylabel('Number of fans')\n",
    "ax.set_title('Fans by age group')\n",
    "ax.bar(age_l, age_height, width,color='y')\n",
    "plt.show()"
   ]
  },
  {
   "cell_type": "markdown",
   "metadata": {},
   "source": [
    "##### part c"
   ]
  },
  {
   "cell_type": "code",
   "execution_count": 64,
   "metadata": {},
   "outputs": [
    {
     "data": {
      "image/png": "[encoded data removed]",
      "text/plain": [
       "<Figure size 432x288 with 1 Axes>"
      ]
     },
     "metadata": {
      "needs_background": "light"
     },
     "output_type": "display_data"
    }
   ],
   "source": [
    "actor=StarWars_final[['Han Solo','Luke Skywalker','Princess Leia Organa','Anakin Skywalker','Obi Wan Kenobi','Emperor Palpatine','Darth Vader','Lando Calrissian','Boba Fett','C-3P0','R2 D2','Jar Jar Binks','Padme Amidala','Yoda']]\n",
    "\n",
    "s1=sum(actor['Han Solo']=='Very favorably')\n",
    "s2=sum(actor['Luke Skywalker']=='Very favorably')\n",
    "s3=sum(actor['Princess Leia Organa']=='Very favorably')\n",
    "s4=sum(actor['Anakin Skywalker']=='Very favorably')\n",
    "s5=sum(actor['Obi Wan Kenobi']=='Very favorably')\n",
    "s6=sum(actor['Emperor Palpatine']=='Very favorably')\n",
    "s7=sum(actor['Darth Vader']=='Very favorably')\n",
    "s8=sum(actor['Lando Calrissian']=='Very favorably')\n",
    "s9=sum(actor['Boba Fett']=='Very favorably')\n",
    "s10=sum(actor['C-3P0']=='Very favorably')\n",
    "s11=sum(actor['R2 D2']=='Very favorably')\n",
    "s12=sum(actor['Jar Jar Binks']=='Very favorably')\n",
    "s13=sum(actor['Padme Amidala']=='Very favorably')\n",
    "s14=sum(actor['Yoda']=='Very favorably')\n",
    "\n",
    "actor_height=[s1,s2,s3,s4,s5,s6,s7,s8,s9,s10,s11,s12,s13,s14]\n",
    "actor_label=['Han Solo','Luke Skywalker','Princess Leia Organa','Anakin Skywalker','Obi Wan Kenobi','Emperor Palpatine','Darth Vader','Lando Calrissian','Boba Fett','C-3P0','R2 D2','Jar Jar Binks','Padme Amidala','Yoda']\n",
    "width=0.4\n",
    "fig = plt.figure()\n",
    "ax = fig.add_axes([0,0,4,2])\n",
    "ax.bar(actor_label, actor_height, width,color='c')\n",
    "ax.set_ylabel('Number of people')\n",
    "ax.set_title('very favourable characters')\n",
    "plt.show()"
   ]
  },
  {
   "cell_type": "code",
   "execution_count": 65,
   "metadata": {
    "scrolled": true
   },
   "outputs": [
    {
     "data": {
      "text/html": [
       "<div>\n",
       "<style scoped>\n",
       "    .dataframe tbody tr th:only-of-type {\n",
       "        vertical-align: middle;\n",
       "    }\n",
       "\n",
       "    .dataframe tbody tr th {\n",
       "        vertical-align: top;\n",
       "    }\n",
       "\n",
       "    .dataframe thead th {\n",
       "        text-align: right;\n",
       "    }\n",
       "</style>\n",
       "<table border=\"1\" class=\"dataframe\">\n",
       "  <thead>\n",
       "    <tr style=\"text-align: right;\">\n",
       "      <th></th>\n",
       "      <th>Han Solo</th>\n",
       "      <th>Emperor Palpatine</th>\n",
       "      <th>Gender</th>\n",
       "      <th>Age</th>\n",
       "      <th>Household Income</th>\n",
       "      <th>Education</th>\n",
       "      <th>Location (Census Region)</th>\n",
       "    </tr>\n",
       "  </thead>\n",
       "  <tbody>\n",
       "    <tr>\n",
       "      <td>1</td>\n",
       "      <td>Very favorably</td>\n",
       "      <td>Very favorably</td>\n",
       "      <td>Male</td>\n",
       "      <td>18-29</td>\n",
       "      <td>$50,000 - $99,999</td>\n",
       "      <td>High school degree</td>\n",
       "      <td>South Atlantic</td>\n",
       "    </tr>\n",
       "    <tr>\n",
       "      <td>3</td>\n",
       "      <td>Somewhat favorably</td>\n",
       "      <td>Unfamiliar (N/A)</td>\n",
       "      <td>Male</td>\n",
       "      <td>18-29</td>\n",
       "      <td>$0 - $24,999</td>\n",
       "      <td>High school degree</td>\n",
       "      <td>West North Central</td>\n",
       "    </tr>\n",
       "    <tr>\n",
       "      <td>4</td>\n",
       "      <td>Very favorably</td>\n",
       "      <td>Somewhat favorably</td>\n",
       "      <td>Male</td>\n",
       "      <td>18-29</td>\n",
       "      <td>$100,000 - $149,999</td>\n",
       "      <td>Some college or Associate degree</td>\n",
       "      <td>West North Central</td>\n",
       "    </tr>\n",
       "    <tr>\n",
       "      <td>5</td>\n",
       "      <td>Very favorably</td>\n",
       "      <td>Very unfavorably</td>\n",
       "      <td>Male</td>\n",
       "      <td>18-29</td>\n",
       "      <td>$100,000 - $149,999</td>\n",
       "      <td>Some college or Associate degree</td>\n",
       "      <td>West North Central</td>\n",
       "    </tr>\n",
       "    <tr>\n",
       "      <td>6</td>\n",
       "      <td>Very favorably</td>\n",
       "      <td>Neither favorably nor unfavorably (neutral)</td>\n",
       "      <td>Male</td>\n",
       "      <td>18-29</td>\n",
       "      <td>$25,000 - $49,999</td>\n",
       "      <td>Bachelor degree</td>\n",
       "      <td>Middle Atlantic</td>\n",
       "    </tr>\n",
       "  </tbody>\n",
       "</table>\n",
       "</div>"
      ],
      "text/plain": [
       "             Han Solo                            Emperor Palpatine Gender  \\\n",
       "1      Very favorably                               Very favorably   Male   \n",
       "3  Somewhat favorably                             Unfamiliar (N/A)   Male   \n",
       "4      Very favorably                           Somewhat favorably   Male   \n",
       "5      Very favorably                             Very unfavorably   Male   \n",
       "6      Very favorably  Neither favorably nor unfavorably (neutral)   Male   \n",
       "\n",
       "     Age     Household Income                         Education  \\\n",
       "1  18-29    $50,000 - $99,999                High school degree   \n",
       "3  18-29         $0 - $24,999                High school degree   \n",
       "4  18-29  $100,000 - $149,999  Some college or Associate degree   \n",
       "5  18-29  $100,000 - $149,999  Some college or Associate degree   \n",
       "6  18-29    $25,000 - $49,999                   Bachelor degree   \n",
       "\n",
       "  Location (Census Region)  \n",
       "1           South Atlantic  \n",
       "3       West North Central  \n",
       "4       West North Central  \n",
       "5       West North Central  \n",
       "6          Middle Atlantic  "
      ]
     },
     "execution_count": 65,
     "metadata": {},
     "output_type": "execute_result"
    }
   ],
   "source": [
    "fav_df=StarWars_final[['Han Solo','Emperor Palpatine','Gender','Age','Household Income','Education','Location (Census Region)']]\n",
    "fav_df=fav_df[(fav_df['Han Solo']!=-1)&(fav_df['Emperor Palpatine']!=-1)]\n",
    "fav_df.head()"
   ]
  },
  {
   "cell_type": "markdown",
   "metadata": {},
   "source": [
    "*Han Solo and Gender*"
   ]
  },
  {
   "cell_type": "code",
   "execution_count": 66,
   "metadata": {},
   "outputs": [
    {
     "data": {
      "text/plain": [
       "<matplotlib.axes._subplots.AxesSubplot at 0x21976698d88>"
      ]
     },
     "execution_count": 66,
     "metadata": {},
     "output_type": "execute_result"
    },
    {
     "data": {
      "image/png": "[encoded data removed]",
      "text/plain": [
       "<Figure size 1080x360 with 1 Axes>"
      ]
     },
     "metadata": {
      "needs_background": "light"
     },
     "output_type": "display_data"
    }
   ],
   "source": [
    "fav_df.groupby(['Gender','Han Solo']).size().unstack().plot.bar(figsize=(15,5),title='Han Solo Vs Gender')"
   ]
  },
  {
   "cell_type": "markdown",
   "metadata": {},
   "source": [
    "*Emperor Palpatine and Gender*"
   ]
  },
  {
   "cell_type": "code",
   "execution_count": 67,
   "metadata": {
    "scrolled": true
   },
   "outputs": [
    {
     "data": {
      "text/plain": [
       "<matplotlib.axes._subplots.AxesSubplot at 0x21976d43988>"
      ]
     },
     "execution_count": 67,
     "metadata": {},
     "output_type": "execute_result"
    },
    {
     "data": {
      "image/png": "[encoded data removed]",
      "text/plain": [
       "<Figure size 1368x360 with 1 Axes>"
      ]
     },
     "metadata": {
      "needs_background": "light"
     },
     "output_type": "display_data"
    }
   ],
   "source": [
    "fav_df.groupby(['Gender','Emperor Palpatine']).size().unstack().plot.bar(figsize=(19,5),title='Emperor Palpatine Vs Gender')"
   ]
  },
  {
   "cell_type": "markdown",
   "metadata": {},
   "source": [
    "*Han Solo and Age*"
   ]
  },
  {
   "cell_type": "code",
   "execution_count": 68,
   "metadata": {},
   "outputs": [
    {
     "data": {
      "text/plain": [
       "<matplotlib.axes._subplots.AxesSubplot at 0x21976c18f08>"
      ]
     },
     "execution_count": 68,
     "metadata": {},
     "output_type": "execute_result"
    },
    {
     "data": {
      "image/png": "[encoded data removed]",
      "text/plain": [
       "<Figure size 1440x576 with 1 Axes>"
      ]
     },
     "metadata": {
      "needs_background": "light"
     },
     "output_type": "display_data"
    }
   ],
   "source": [
    "order_age=['18-29','30-44','45-60','> 60']\n",
    "group_age=fav_df[['Han Solo','Age']].groupby(['Age','Han Solo'])\n",
    "reorder_age=group_age.size().reindex(order_age,level=0)\n",
    "reorder_age.unstack().plot.bar(figsize=(20,8),title='Han Solo Vs Age')"
   ]
  },
  {
   "cell_type": "markdown",
   "metadata": {},
   "source": [
    "*Emperor Palpatine and Gender*"
   ]
  },
  {
   "cell_type": "code",
   "execution_count": 69,
   "metadata": {},
   "outputs": [
    {
     "data": {
      "text/plain": [
       "<matplotlib.axes._subplots.AxesSubplot at 0x21976cd7088>"
      ]
     },
     "execution_count": 69,
     "metadata": {},
     "output_type": "execute_result"
    },
    {
     "data": {
      "image/png": "[encoded data removed]",
      "text/plain": [
       "<Figure size 1440x576 with 1 Axes>"
      ]
     },
     "metadata": {
      "needs_background": "light"
     },
     "output_type": "display_data"
    }
   ],
   "source": [
    "group_age=fav_df[['Emperor Palpatine','Age']].groupby(['Age','Emperor Palpatine'])\n",
    "reorder_age_Emp=group_age.size().reindex(order_age,level=0)\n",
    "reorder_age_Emp.unstack().plot.bar(figsize=(20,8),title='Emperor Palpatine Vs Age')"
   ]
  },
  {
   "cell_type": "markdown",
   "metadata": {},
   "source": [
    "*Han Solo and Education*"
   ]
  },
  {
   "cell_type": "code",
   "execution_count": 70,
   "metadata": {},
   "outputs": [
    {
     "data": {
      "text/plain": [
       "<matplotlib.axes._subplots.AxesSubplot at 0x21976f17ec8>"
      ]
     },
     "execution_count": 70,
     "metadata": {},
     "output_type": "execute_result"
    },
    {
     "data": {
      "image/png": "[encoded data removed]",
      "text/plain": [
       "<Figure size 1080x360 with 1 Axes>"
      ]
     },
     "metadata": {
      "needs_background": "light"
     },
     "output_type": "display_data"
    }
   ],
   "source": [
    "edu_order=['Less than high school degree','High school degree','Some college or Associate degree','Bachelor degree','Graduate degree']\n",
    "group_edu=fav_df[['Han Solo','Education']].groupby(['Education','Han Solo'])\n",
    "reorder_edu_Han=group_edu.size().reindex(edu_order,level=0)\n",
    "reorder_edu_Han.unstack().plot.bar(figsize=(15,5),title='Han Solo Vs Education')"
   ]
  },
  {
   "cell_type": "markdown",
   "metadata": {},
   "source": [
    "*Emperor Palpatine and Education*"
   ]
  },
  {
   "cell_type": "code",
   "execution_count": 71,
   "metadata": {},
   "outputs": [
    {
     "data": {
      "text/plain": [
       "<matplotlib.axes._subplots.AxesSubplot at 0x21976fefc08>"
      ]
     },
     "execution_count": 71,
     "metadata": {},
     "output_type": "execute_result"
    },
    {
     "data": {
      "image/png": "[encoded data removed]",
      "text/plain": [
       "<Figure size 1080x360 with 1 Axes>"
      ]
     },
     "metadata": {
      "needs_background": "light"
     },
     "output_type": "display_data"
    }
   ],
   "source": [
    "group_edu_Emp=fav_df[['Emperor Palpatine','Education']].groupby(['Education','Emperor Palpatine'])\n",
    "reorder_edu_Emp=group_edu_Emp.size().reindex(edu_order,level=0)\n",
    "reorder_edu_Emp.unstack().plot.bar(figsize=(15,5),title='Emperor Palpatine Vs Education')"
   ]
  },
  {
   "cell_type": "markdown",
   "metadata": {},
   "source": [
    "*Han Solo and Household Income*"
   ]
  },
  {
   "cell_type": "code",
   "execution_count": 72,
   "metadata": {},
   "outputs": [
    {
     "data": {
      "text/plain": [
       "<matplotlib.axes._subplots.AxesSubplot at 0x219750ab308>"
      ]
     },
     "execution_count": 72,
     "metadata": {},
     "output_type": "execute_result"
    },
    {
     "data": {
      "image/png": "[encoded data removed]",
      "text/plain": [
       "<Figure size 1080x360 with 1 Axes>"
      ]
     },
     "metadata": {
      "needs_background": "light"
     },
     "output_type": "display_data"
    }
   ],
   "source": [
    "Income_order=['$0 - $24,999','$25,000 - $49,999','$50,000 - $99,999','$100,000 - $149,999','$150,000+']\n",
    "group_Income_Han=fav_df[['Han Solo','Household Income']].groupby(['Household Income','Han Solo'])\n",
    "reorder_Income_Han=group_Income_Han.size().reindex(Income_order,level=0)\n",
    "reorder_Income_Han.unstack().plot.bar(figsize=(15,5),title='Han Solo Vs Household Income')"
   ]
  },
  {
   "cell_type": "markdown",
   "metadata": {},
   "source": [
    "*Emperor Palpatine and Household Income*"
   ]
  },
  {
   "cell_type": "code",
   "execution_count": 73,
   "metadata": {},
   "outputs": [
    {
     "data": {
      "text/plain": [
       "<matplotlib.axes._subplots.AxesSubplot at 0x21977015f08>"
      ]
     },
     "execution_count": 73,
     "metadata": {},
     "output_type": "execute_result"
    },
    {
     "data": {
      "image/png": "[encoded data removed]",
      "text/plain": [
       "<Figure size 1080x360 with 1 Axes>"
      ]
     },
     "metadata": {
      "needs_background": "light"
     },
     "output_type": "display_data"
    }
   ],
   "source": [
    "group_Income_Emp=fav_df[['Emperor Palpatine','Household Income']].groupby(['Household Income','Emperor Palpatine'])\n",
    "reorder_Income_Emp=group_Income_Emp.size().reindex(Income_order,level=0)\n",
    "reorder_Income_Emp.unstack().plot.bar(figsize=(15,5),title='Emperor Palpatine Vs Household Income')"
   ]
  },
  {
   "cell_type": "markdown",
   "metadata": {},
   "source": [
    "*Han Solo and Location*"
   ]
  },
  {
   "cell_type": "code",
   "execution_count": 74,
   "metadata": {},
   "outputs": [
    {
     "data": {
      "text/plain": [
       "<matplotlib.axes._subplots.AxesSubplot at 0x2197808b0c8>"
      ]
     },
     "execution_count": 74,
     "metadata": {},
     "output_type": "execute_result"
    },
    {
     "data": {
      "image/png": "[encoded data removed]",
      "text/plain": [
       "<Figure size 1368x360 with 1 Axes>"
      ]
     },
     "metadata": {
      "needs_background": "light"
     },
     "output_type": "display_data"
    }
   ],
   "source": [
    "fav_df.groupby(['Location (Census Region)','Han Solo']).size().unstack().plot.bar(figsize=(19,5),title='Han Solo Vs Location')"
   ]
  },
  {
   "cell_type": "markdown",
   "metadata": {},
   "source": [
    "*Emperor Palpatine and Location*"
   ]
  },
  {
   "cell_type": "code",
   "execution_count": 75,
   "metadata": {},
   "outputs": [
    {
     "data": {
      "text/plain": [
       "<matplotlib.axes._subplots.AxesSubplot at 0x2197834ec48>"
      ]
     },
     "execution_count": 75,
     "metadata": {},
     "output_type": "execute_result"
    },
    {
     "data": {
      "image/png": "[encoded data removed]",
      "text/plain": [
       "<Figure size 1368x360 with 1 Axes>"
      ]
     },
     "metadata": {
      "needs_background": "light"
     },
     "output_type": "display_data"
    }
   ],
   "source": [
    "fav_df.groupby(['Location (Census Region)','Emperor Palpatine']).size().unstack().plot.bar(figsize=(19,5),title='Emperor Palpatine Vs Location')"
   ]
  },
  {
   "cell_type": "code",
   "execution_count": null,
   "metadata": {},
   "outputs": [],
   "source": []
  }
 ],
 "metadata": {
  "kernelspec": {
   "display_name": "Python 3",
   "language": "python",
   "name": "python3"
  },
  "language_info": {
   "codemirror_mode": {
    "name": "ipython",
    "version": 3
   },
   "file_extension": ".py",
   "mimetype": "text/x-python",
   "name": "python",
   "nbconvert_exporter": "python",
   "pygments_lexer": "ipython3",
   "version": "3.7.4"
  }
 },
 "nbformat": 4,
 "nbformat_minor": 2
}
